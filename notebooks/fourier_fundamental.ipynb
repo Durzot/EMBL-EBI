{
 "cells": [
  {
   "cell_type": "markdown",
   "metadata": {},
   "source": [
    "# Fourier transforms of compact mSchoenberg fundamental splines "
   ]
  },
  {
   "cell_type": "code",
   "execution_count": 44,
   "metadata": {},
   "outputs": [],
   "source": [
    "from tqdm import tqdm\n",
    "import itertools\n",
    "import numpy as np\n",
    "import scipy"
   ]
  },
  {
   "cell_type": "code",
   "execution_count": 47,
   "metadata": {},
   "outputs": [],
   "source": [
    "def fact(n):\n",
    "    if n < 0:\n",
    "        return 0\n",
    "    if n==0:\n",
    "        return 1\n",
    "    else: \n",
    "        return n*fact(n-1)"
   ]
  },
  {
   "cell_type": "code",
   "execution_count": 6,
   "metadata": {},
   "outputs": [
    {
     "name": "stdout",
     "output_type": "stream",
     "text": [
      "Fundamental function L_0\n",
      "1-3x^2+2x^3\n",
      "Fundamental function L_1\n",
      "x^1/1-2x^2+1x^3\n"
     ]
    }
   ],
   "source": [
    "# We solve the sysem SA = B\n",
    "r = 2\n",
    "\n",
    "# Build matrix of the system for m=r\n",
    "S = np.zeros((r,r))\n",
    "for i in range(r):\n",
    "    for j in range(r):\n",
    "        S[i,j] = fact(r+j)/fact(r+j-i)\n",
    "\n",
    "# Compute and print each of the fundamental functions L_s\n",
    "for s in range(0, r):\n",
    "    B = np.zeros(r)\n",
    "    for i in range(s+1):\n",
    "        B[i] = -1/fact(s-i)\n",
    "        \n",
    "    # Compute coefficients\n",
    "    A = np.linalg.inv(S).dot(B)\n",
    "    \n",
    "    # Write polynomial\n",
    "    form = \"\"\n",
    "    if s==0:\n",
    "        form = \"1\"\n",
    "    else:\n",
    "        form = \"x^%d/%d\" % (s, fact(s))\n",
    "        \n",
    "    for i in range(r):\n",
    "        if A[i] < 0:\n",
    "            form += \"%.2gx^%d\" % (A[i], r+i)\n",
    "        else:\n",
    "            form += \"+%.2gx^%d\" % (A[i], r+i)\n",
    "        \n",
    "    print(\"Fundamental function L_%d\" % s)\n",
    "    print(form)"
   ]
  },
  {
   "cell_type": "code",
   "execution_count": 25,
   "metadata": {},
   "outputs": [
    {
     "name": "stdout",
     "output_type": "stream",
     "text": [
      "r=2, 1\n",
      "r=3, 6\n",
      "r=4, 60\n",
      "r=5, 840\n",
      "r=6, 15120\n",
      "r=7, 332640\n",
      "r=8, 8648640\n"
     ]
    }
   ],
   "source": [
    "f = lambda r: fact(2*r-2)/fact(r-1)/2\n",
    "for r in range(2, 9):\n",
    "    print('r=%d, %d' % (r, f(r)))"
   ]
  },
  {
   "cell_type": "code",
   "execution_count": 81,
   "metadata": {},
   "outputs": [
    {
     "name": "stdout",
     "output_type": "stream",
     "text": [
      "6.0\n",
      "10.0\n",
      "14.0\n",
      "18.0\n",
      "22.0\n"
     ]
    }
   ],
   "source": [
    "seq = [1, 6, 60, 840, 15120, 332640]\n",
    "seq_bis = []\n",
    "\n",
    "for a, b in zip(seq[:-1], seq[1:]):\n",
    "    seq_bis.append(b/a)\n",
    "    print(b/a)"
   ]
  },
  {
   "cell_type": "code",
   "execution_count": 83,
   "metadata": {},
   "outputs": [
    {
     "name": "stdout",
     "output_type": "stream",
     "text": [
      "6.0\n",
      "10.0\n",
      "14.0\n",
      "18.0\n",
      "22.0\n",
      "26.0\n"
     ]
    }
   ],
   "source": [
    "for r in range(2, 8):\n",
    "    print((2*r)*(2*r-1)/r)"
   ]
  },
  {
   "cell_type": "code",
   "execution_count": 93,
   "metadata": {},
   "outputs": [
    {
     "name": "stdout",
     "output_type": "stream",
     "text": [
      "12.0\n",
      "15.0\n",
      "18.666666666666668\n",
      "22.5\n",
      "26.4\n",
      "30.333333333333332\n"
     ]
    }
   ],
   "source": [
    "for r in range(2, 8):\n",
    "    print((2*r)*(2*r-1)/(r-1))"
   ]
  },
  {
   "cell_type": "code",
   "execution_count": 80,
   "metadata": {},
   "outputs": [
    {
     "name": "stdout",
     "output_type": "stream",
     "text": [
      "12.0\n",
      "15.0\n",
      "18.666666666666668\n",
      "22.5\n",
      "26.4\n"
     ]
    }
   ],
   "source": [
    "seq = [1, 12, 180, 3360, 75600, 1995840]\n",
    "seq_bis = []\n",
    "\n",
    "for a, b in zip(seq[:-1], seq[1:]):\n",
    "    seq_bis.append(b/a)\n",
    "    print(b/a)"
   ]
  },
  {
   "cell_type": "code",
   "execution_count": 98,
   "metadata": {},
   "outputs": [
    {
     "name": "stdout",
     "output_type": "stream",
     "text": [
      "r=3, 1\n",
      "r=4, 12\n",
      "r=5, 180\n",
      "r=6, 3360\n",
      "r=7, 75600\n",
      "r=8, 1995840\n"
     ]
    }
   ],
   "source": [
    "f = lambda r: fact(2*r-4)/fact(r-3)/2\n",
    "for r in range(3, 9):\n",
    "    print('r=%d, %d' % (r, f(r)))"
   ]
  },
  {
   "cell_type": "code",
   "execution_count": 102,
   "metadata": {},
   "outputs": [
    {
     "name": "stdout",
     "output_type": "stream",
     "text": [
      "20.0\n",
      "21.0\n",
      "24.0\n",
      "27.5\n"
     ]
    }
   ],
   "source": [
    "seq = [1, 20, 420, 10080, 277200]\n",
    "\n",
    "for a, b in zip(seq[:-1], seq[1:]):\n",
    "    print(b/a)"
   ]
  },
  {
   "cell_type": "code",
   "execution_count": 113,
   "metadata": {},
   "outputs": [
    {
     "name": "stdout",
     "output_type": "stream",
     "text": [
      "20.0\n",
      "21.0\n",
      "24.0\n",
      "27.5\n"
     ]
    }
   ],
   "source": [
    "for r in range(4, 8):\n",
    "    print((2*r-3)*(2*r-4)/(r-3))"
   ]
  },
  {
   "cell_type": "code",
   "execution_count": 116,
   "metadata": {},
   "outputs": [
    {
     "name": "stdout",
     "output_type": "stream",
     "text": [
      "r=4, 1\n",
      "r=5, 20\n",
      "r=6, 420\n",
      "r=7, 10080\n",
      "r=8, 277200\n"
     ]
    }
   ],
   "source": [
    "f = lambda r: fact(2*r-5)/(6*fact(r-4))\n",
    "for r in range(4, 9):\n",
    "    print('r=%d, %d' % (r, f(r)))"
   ]
  },
  {
   "cell_type": "code",
   "execution_count": 118,
   "metadata": {},
   "outputs": [
    {
     "name": "stdout",
     "output_type": "stream",
     "text": [
      "30.0\n",
      "28.0\n",
      "30.0\n"
     ]
    }
   ],
   "source": [
    "seq = [1, 30, 840, 25200]\n",
    "\n",
    "for a, b in zip(seq[:-1], seq[1:]):\n",
    "    print(b/a)"
   ]
  },
  {
   "cell_type": "code",
   "execution_count": 121,
   "metadata": {},
   "outputs": [
    {
     "name": "stdout",
     "output_type": "stream",
     "text": [
      "30.0\n",
      "28.0\n",
      "30.0\n"
     ]
    }
   ],
   "source": [
    "for r in range(5, 8):\n",
    "    print((2*r-4)*(2*r-5)/(r-4))"
   ]
  },
  {
   "cell_type": "code",
   "execution_count": 124,
   "metadata": {},
   "outputs": [
    {
     "name": "stdout",
     "output_type": "stream",
     "text": [
      "r=5, 1\n",
      "r=6, 30\n",
      "r=7, 840\n",
      "r=8, 25200\n"
     ]
    }
   ],
   "source": [
    "f = lambda r: fact(2*r-6)/(24*fact(r-5))\n",
    "for r in range(5, 9):\n",
    "    print('r=%d, %d' % (r, f(r)))"
   ]
  },
  {
   "cell_type": "code",
   "execution_count": 126,
   "metadata": {},
   "outputs": [
    {
     "name": "stdout",
     "output_type": "stream",
     "text": [
      "r=2, 1\n",
      "r=3, 6\n",
      "r=4, 60\n",
      "r=5, 840\n",
      "r=6, 15120\n",
      "r=7, 332640\n",
      "r=8, 8648640\n"
     ]
    }
   ],
   "source": [
    "f = lambda r: fact(2*r-3)/(fact(r-2))\n",
    "for r in range(2, 9):\n",
    "    print('r=%d, %d' % (r, f(r)))"
   ]
  },
  {
   "cell_type": "code",
   "execution_count": 127,
   "metadata": {},
   "outputs": [
    {
     "name": "stdout",
     "output_type": "stream",
     "text": [
      "r=6, 1\n",
      "r=7, 42\n",
      "r=8, 1512\n"
     ]
    }
   ],
   "source": [
    "f = lambda r: fact(2*r-7)/(fact(r-6)*fact(5))\n",
    "for r in range(6, 9):\n",
    "    print('r=%d, %d' % (r, f(r)))"
   ]
  },
  {
   "cell_type": "code",
   "execution_count": 131,
   "metadata": {},
   "outputs": [
    {
     "name": "stdout",
     "output_type": "stream",
     "text": [
      "20.0\n",
      "7.0\n",
      "72.0\n",
      "5.5\n",
      "156.0\n"
     ]
    }
   ],
   "source": [
    "seq = [6, 120, 840, 60480, 332640,  51891840]\n",
    "\n",
    "for a, b in zip(seq[:-1], seq[1:]):\n",
    "    print(b/a)"
   ]
  },
  {
   "cell_type": "code",
   "execution_count": 205,
   "metadata": {},
   "outputs": [
    {
     "name": "stdout",
     "output_type": "stream",
     "text": [
      "r=3, 60\n",
      "r=4, 840\n",
      "r=5, 15120\n",
      "r=6, 332640\n",
      "r=7, 8648640\n",
      "r=8, 259459200\n"
     ]
    }
   ],
   "source": [
    "f = lambda r: fact(2*r-1)/(fact(r-1))\n",
    "for r in range(3, 9):\n",
    "    print('r=%d, %d' % (r, f(r)))"
   ]
  },
  {
   "cell_type": "code",
   "execution_count": 212,
   "metadata": {},
   "outputs": [
    {
     "data": {
      "text/plain": [
       "15120"
      ]
     },
     "execution_count": 212,
     "metadata": {},
     "output_type": "execute_result"
    }
   ],
   "source": [
    "252*60"
   ]
  },
  {
   "cell_type": "markdown",
   "metadata": {},
   "source": [
    "### General $\\hat{\\phi}_1$"
   ]
  },
  {
   "cell_type": "code",
   "execution_count": 16,
   "metadata": {},
   "outputs": [
    {
     "name": "stdout",
     "output_type": "stream",
     "text": [
      "$r=1$, $\\hat{L}_{0}(u)$\n",
      "2/u^2[(cos(u)-1)(-1u^0)]\n",
      "$r=2$, $\\hat{L}_{0}(u)$\n",
      "12/u^4[(cos(u)-1)(-2u^0)+sin(u)(-1u^1)]\n",
      "$r=3$, $\\hat{L}_{0}(u)$\n",
      "120/u^6[(cos(u)-1)(-12u^0+1u^2)+sin(u)(-6u^1)]\n",
      "$r=4$, $\\hat{L}_{0}(u)$\n",
      "1680/u^8[(cos(u)-1)(-120u^0+12u^2)+sin(u)(-60u^1+1u^3)]\n",
      "$r=5$, $\\hat{L}_{0}(u)$\n",
      "30240/u^10[(cos(u)-1)(-1680u^0+180u^2-1u^4)+sin(u)(-840u^1+20u^3)]\n",
      "$r=6$, $\\hat{L}_{0}(u)$\n",
      "665280/u^12[(cos(u)-1)(-30240u^0+3360u^2-30u^4)+sin(u)(-15120u^1+420u^3-1u^5)]\n",
      "$r=7$, $\\hat{L}_{0}(u)$\n",
      "17297280/u^14[(cos(u)-1)(-665280u^0+75600u^2-840u^4+1u^6)+sin(u)(-332640u^1+10080u^3-42u^5)]\n",
      "$r=8$, $\\hat{L}_{0}(u)$\n",
      "518918400/u^16[(cos(u)-1)(-17297280u^0+1995840u^2-25200u^4+56u^6)+sin(u)(-8648640u^1+277200u^3-1512u^5+1u^7)]\n",
      "$r=9$, $\\hat{L}_{0}(u)$\n",
      "17643225600/u^18[(cos(u)-1)(-518918400u^0+60540480u^2-831600u^4+2520u^6-1u^8)+sin(u)(-259459200u^1+8648640u^3-55440u^5+72u^7)]\n",
      "$r=10$, $\\hat{L}_{0}(u)$\n",
      "670442572800/u^20[(cos(u)-1)(-17643225600u^0+2075673600u^2-30270240u^4+110880u^6-90u^8)+sin(u)(-8821612800u^1+302702400u^3-2162160u^5+3960u^7-1u^9)]\n",
      "$r=11$, $\\hat{L}_{0}(u)$\n",
      "28158588057600/u^22[(cos(u)-1)(-670442572800u^0+79394515200u^2-1210809600u^4+5045040u^6-5940u^8+1u^10)+sin(u)(-335221286400u^1+11762150400u^3-90810720u^5+205920u^7-110u^9)]\n"
     ]
    }
   ],
   "source": [
    "for r in range(1, 12):\n",
    "    F  = fact(2*r)/fact(r)\n",
    "    A = []\n",
    "    B = []\n",
    "    \n",
    "    # Write Fourier transform\n",
    "    Lhat = \"\"\n",
    "    Lhat += \"%d/u^%d[(cos(u)-1)(\" % (F, 2*r)\n",
    "    for k in range(1, np.int(np.floor((r+1)/2))+1):\n",
    "        A.append(fact(2*r-2*k)/(fact(2*k-2)*fact(r+1-2*k))*(-1)**k)\n",
    "        if k < np.int(np.floor((r+1)/2)):\n",
    "            if k%2 == 0:\n",
    "                Lhat += \"%du^%d\" % (A[-1], 2*k-2)\n",
    "            else:\n",
    "                Lhat += \"%du^%d+\" % (A[-1], 2*k-2)\n",
    "        else:\n",
    "            if r >= 2:\n",
    "                Lhat += \"%du^%d)+sin(u)(\" % (A[-1], 2*k-2)\n",
    "            else:\n",
    "                Lhat += \"%du^%d)]\" % (A[-1], 2*k-2)\n",
    "    for k in range(1, np.int(np.floor(r/2))+1):\n",
    "        B.append(fact(2*r-1-2*k)/(fact(2*k-1)*fact(r-2*k))*(-1)**k)\n",
    "        if k < np.int(np.floor(r/2)):\n",
    "            if k%2 == 0:\n",
    "                Lhat += \"%du^%d\" % (B[-1], 2*k-1)\n",
    "            else:\n",
    "                Lhat += \"%du^%d+\" % (B[-1], 2*k-1)\n",
    "        else:\n",
    "            Lhat += \"%du^%d)]\" % (B[-1], 2*k-1)\n",
    "    print(r\"$r=%d$, $\\hat{L}_{0}(u)$\" % r)\n",
    "    print(Lhat)"
   ]
  },
  {
   "cell_type": "markdown",
   "metadata": {},
   "source": [
    "### $\\phi_3$"
   ]
  },
  {
   "cell_type": "code",
   "execution_count": 168,
   "metadata": {},
   "outputs": [
    {
     "name": "stdout",
     "output_type": "stream",
     "text": [
      "12.0\n",
      "5.0\n",
      "56.0\n",
      "4.5\n",
      "132.0\n",
      "4.333333333333333\n",
      "240.0\n",
      "4.25\n",
      "380.0\n"
     ]
    }
   ],
   "source": [
    "seq = [4, 48, 240, 13440, 60480, 7983360, 34594560, 8302694400, 35286451200, 13408851456000]\n",
    "\n",
    "for a, b in zip(seq[:-1], seq[1:]):\n",
    "    print(b/a)"
   ]
  },
  {
   "cell_type": "code",
   "execution_count": 169,
   "metadata": {},
   "outputs": [
    {
     "name": "stdout",
     "output_type": "stream",
     "text": [
      "12\n",
      "56\n",
      "132\n",
      "240\n",
      "380\n"
     ]
    }
   ],
   "source": [
    "for r in range(2, 11, 2):\n",
    "    print((2*r)*(2*r-1))"
   ]
  },
  {
   "cell_type": "code",
   "execution_count": 221,
   "metadata": {},
   "outputs": [
    {
     "name": "stdout",
     "output_type": "stream",
     "text": [
      "5.0\n",
      "4.5\n",
      "4.333333333333333\n",
      "4.25\n",
      "4.2\n"
     ]
    }
   ],
   "source": [
    "for r in range(1, 6):\n",
    "    print(6-(2*r-1)/r)"
   ]
  },
  {
   "cell_type": "code",
   "execution_count": 226,
   "metadata": {},
   "outputs": [
    {
     "name": "stdout",
     "output_type": "stream",
     "text": [
      "5.0\n",
      "4.5\n",
      "4.333333333333333\n",
      "4.25\n",
      "4.2\n"
     ]
    }
   ],
   "source": [
    "for r in range(3, 13, 2):\n",
    "    print((4*r-2)/(r-1))"
   ]
  },
  {
   "cell_type": "code",
   "execution_count": 100,
   "metadata": {},
   "outputs": [
    {
     "name": "stdout",
     "output_type": "stream",
     "text": [
      "r=2, 4\n",
      "r=3, 48\n",
      "r=4, 240\n",
      "r=5, 13440\n",
      "r=6, 60480\n",
      "r=7, 7983360\n",
      "r=8, 34594560\n",
      "r=9, 8302694400\n",
      "r=10, 35286451200\n",
      "r=11, 13408851456000\n",
      "r=12, 56317176115200\n"
     ]
    }
   ],
   "source": [
    "f1 = lambda r: 4*fact(2*r-3)/(fact(r-2))\n",
    "f2 = lambda r: 4*(r-1)*fact(2*r-3)/(fact(r-2))\n",
    "for r in range(2, 13):\n",
    "    if r%2 == 0:\n",
    "        print('r=%d, %d' % (r, f1(r)))\n",
    "    else:\n",
    "        print('r=%d, %d' % (r, f2(r)))"
   ]
  },
  {
   "cell_type": "markdown",
   "metadata": {},
   "source": [
    "### $\\phi_2$, $\\sin(w)$"
   ]
  },
  {
   "cell_type": "code",
   "execution_count": 8,
   "metadata": {},
   "outputs": [
    {
     "name": "stdout",
     "output_type": "stream",
     "text": [
      "5.0\n",
      "28.0\n",
      "4.5\n",
      "88.0\n",
      "4.333333333333333\n",
      "180.0\n",
      "4.25\n",
      "304.0\n",
      "4.2\n"
     ]
    }
   ],
   "source": [
    "seq = [3, 15, 420, 1890, 166320, 720720, 129729600, 551350800, 63*2660486400, 703964701440]\n",
    "\n",
    "for a, b in zip(seq[:-1], seq[1:]):\n",
    "    print(b/a)"
   ]
  },
  {
   "cell_type": "code",
   "execution_count": 9,
   "metadata": {},
   "outputs": [
    {
     "name": "stdout",
     "output_type": "stream",
     "text": [
      "5.0\n",
      "4.5\n",
      "4.333333333333333\n",
      "4.25\n",
      "4.2\n",
      "4.166666666666667\n"
     ]
    }
   ],
   "source": [
    "for r in range(2, 13, 2):\n",
    "    print((4*r+2)/(r))"
   ]
  },
  {
   "cell_type": "code",
   "execution_count": 10,
   "metadata": {},
   "outputs": [
    {
     "name": "stdout",
     "output_type": "stream",
     "text": [
      "28\n",
      "88\n",
      "180\n",
      "304\n",
      "460\n"
     ]
    }
   ],
   "source": [
    "for r in range(3, 13, 2):\n",
    "    print((2*r+1)*(2*r-2))"
   ]
  },
  {
   "cell_type": "code",
   "execution_count": 11,
   "metadata": {},
   "outputs": [
    {
     "name": "stdout",
     "output_type": "stream",
     "text": [
      "3.0\n",
      "420.0\n",
      "166320.0\n",
      "129729600.0\n",
      "167610643200.0\n",
      "323823762662400.0\n"
     ]
    }
   ],
   "source": [
    "for r in range(2, 13, 2):\n",
    "    print((2*r-1)*fact(2*r-3)/fact(r-2))"
   ]
  },
  {
   "cell_type": "code",
   "execution_count": 12,
   "metadata": {},
   "outputs": [
    {
     "name": "stdout",
     "output_type": "stream",
     "text": [
      "15.0\n",
      "1890.0\n",
      "720720.0\n",
      "551350800.0\n",
      "703964701440.0\n"
     ]
    }
   ],
   "source": [
    "for r in range(3, 13, 2):\n",
    "    print(((2*r-1)/(r-1))*fact(2*r-3)/fact(r-2))"
   ]
  },
  {
   "cell_type": "markdown",
   "metadata": {},
   "source": [
    "### $\\phi_2$, $-w$"
   ]
  },
  {
   "cell_type": "code",
   "execution_count": 13,
   "metadata": {},
   "outputs": [
    {
     "name": "stdout",
     "output_type": "stream",
     "text": [
      "4.0\n",
      "27.0\n",
      "4.444444444444445\n",
      "87.5\n",
      "4.32\n",
      "179.66666666666666\n",
      "4.244897959183674\n",
      "303.75\n",
      "4.197530864197531\n"
     ]
    }
   ],
   "source": [
    "seq = [2, 8, 216, 960, 84000, 362880, 65197440, 276756480, 84064780800, 352864512000]\n",
    "\n",
    "for a, b in zip(seq[:-1], seq[1:]):\n",
    "    print(b/a)"
   ]
  },
  {
   "cell_type": "code",
   "execution_count": 20,
   "metadata": {},
   "outputs": [
    {
     "name": "stdout",
     "output_type": "stream",
     "text": [
      "2.0\n",
      "216.0\n",
      "84000.0\n",
      "65197440.0\n",
      "84064780800.0\n",
      "162247102617600.0\n"
     ]
    }
   ],
   "source": [
    "for r in range(2, 13, 2):\n",
    "    print(2*(r-1)**2*fact(2*r-4)/fact(r-2))"
   ]
  },
  {
   "cell_type": "code",
   "execution_count": 22,
   "metadata": {},
   "outputs": [
    {
     "name": "stdout",
     "output_type": "stream",
     "text": [
      "8.0\n",
      "960.0\n",
      "362880.0\n",
      "276756480.0\n",
      "352864512000.0\n"
     ]
    }
   ],
   "source": [
    "for r in range(3, 13, 2):\n",
    "    print(2*(r-1)*fact(2*r-4)/fact(r-2))"
   ]
  },
  {
   "cell_type": "code",
   "execution_count": 187,
   "metadata": {},
   "outputs": [
    {
     "name": "stdout",
     "output_type": "stream",
     "text": [
      "4.0\n",
      "4.444444444444445\n",
      "4.32\n",
      "4.244897959183674\n",
      "4.197530864197531\n",
      "4.1652892561983474\n"
     ]
    }
   ],
   "source": [
    "for r in range(2, 13, 2):\n",
    "    print(2*r*(2*r-3)/(r-1)**2)"
   ]
  },
  {
   "cell_type": "code",
   "execution_count": 10,
   "metadata": {},
   "outputs": [
    {
     "name": "stdout",
     "output_type": "stream",
     "text": [
      "27.0\n",
      "87.5\n",
      "179.66666666666666\n",
      "303.75\n",
      "459.8\n"
     ]
    }
   ],
   "source": [
    "for r in range(3, 13, 2):\n",
    "    print((2*r**2*(2*r-3))/(r-1))"
   ]
  },
  {
   "cell_type": "markdown",
   "metadata": {},
   "source": [
    "### $\\phi_2$, $-w\\cos(w)$ "
   ]
  },
  {
   "cell_type": "code",
   "execution_count": 6,
   "metadata": {},
   "outputs": [
    {
     "name": "stdout",
     "output_type": "stream",
     "text": [
      "7.0\n",
      "29.142857142857142\n",
      "4.5588235294117645\n",
      "88.51612903225806\n",
      "4.346938775510204\n",
      "180.33802816901408\n",
      "4.255154639175258\n",
      "304.251968503937\n",
      "4.202484472049689\n"
     ]
    }
   ],
   "source": [
    "seq = [1, 7, 204, 930, 82320, 357840, 64532160, 274594320, 83545862400, 351100189440]\n",
    "\n",
    "for a, b in zip(seq[:-1], seq[1:]):\n",
    "    print(b/a)"
   ]
  },
  {
   "cell_type": "code",
   "execution_count": 7,
   "metadata": {},
   "outputs": [
    {
     "name": "stdout",
     "output_type": "stream",
     "text": [
      "[1, 1, 12, 30, 1680, 5040, 665280, 2162160, 518918400, 1764322560]\n",
      "1.0\n",
      "12.0\n",
      "2.5\n",
      "56.0\n",
      "3.0\n",
      "132.0\n",
      "3.25\n",
      "240.0\n",
      "3.4\n"
     ]
    }
   ],
   "source": [
    "seq_a = [2, 8, 216, 960, 84000, 362880, 65197440, 276756480, 84064780800, 352864512000]\n",
    "seq_b = [1, 7, 204, 930, 82320, 357840, 64532160, 274594320, 83545862400, 351100189440]\n",
    "seq = [a-b for a,b in zip(seq_a,seq_b)]\n",
    "print(seq)\n",
    "\n",
    "for a, b in zip(seq[:-1], seq[1:]):\n",
    "    print(b/a)"
   ]
  },
  {
   "cell_type": "code",
   "execution_count": 8,
   "metadata": {},
   "outputs": [
    {
     "name": "stdout",
     "output_type": "stream",
     "text": [
      "12\n",
      "56\n",
      "132\n",
      "240\n",
      "380\n"
     ]
    }
   ],
   "source": [
    "for r in range(3, 13, 2):\n",
    "    print((2*r-2)*(2*r-3))"
   ]
  },
  {
   "cell_type": "code",
   "execution_count": 34,
   "metadata": {},
   "outputs": [
    {
     "name": "stderr",
     "output_type": "stream",
     "text": [
      " 58%|█████▊    | 58137/100000 [00:00<00:00, 193549.43it/s]"
     ]
    },
    {
     "name": "stdout",
     "output_type": "stream",
     "text": [
      "(-4, 2, -1, 2, 2)\n",
      "[12, 56, 132, 240, 380]\n",
      "(-2, 1, -2, 4, 2)\n",
      "[12, 56, 132, 240, 380]\n",
      "(-2, 2, -2, 3, 0)\n",
      "[12, 56, 132, 240, 380]\n",
      "(-2, 3, -2, 2, 0)\n",
      "[12, 56, 132, 240, 380]\n",
      "(-2, 4, -2, 1, 2)\n",
      "[12, 56, 132, 240, 380]\n",
      "(-1, 2, -4, 2, 2)\n",
      "[12, 56, 132, 240, 380]\n"
     ]
    },
    {
     "name": "stderr",
     "output_type": "stream",
     "text": [
      "100%|██████████| 100000/100000 [00:00<00:00, 195906.81it/s]"
     ]
    },
    {
     "name": "stdout",
     "output_type": "stream",
     "text": [
      "(1, -2, 4, -2, 2)\n",
      "[12, 56, 132, 240, 380]\n",
      "(2, -4, 2, -1, 2)\n",
      "[12, 56, 132, 240, 380]\n",
      "(2, -3, 2, -2, 0)\n",
      "[12, 56, 132, 240, 380]\n",
      "(2, -2, 2, -3, 0)\n",
      "[12, 56, 132, 240, 380]\n",
      "(2, -1, 2, -4, 2)\n",
      "[12, 56, 132, 240, 380]\n",
      "(4, -2, 1, -2, 2)\n",
      "[12, 56, 132, 240, 380]\n"
     ]
    },
    {
     "name": "stderr",
     "output_type": "stream",
     "text": [
      "\n"
     ]
    }
   ],
   "source": [
    "all_list = [np.arange(-5, 5)]*5\n",
    "all_p = list(itertools.product(*all_list))\n",
    "             \n",
    "for p in tqdm(all_p):\n",
    "    seq = [(p[0]*r+p[1])*(p[2]*r+p[3]) + p[4] for r in range(3, 13, 2)]\n",
    "    if 12 in seq and 56 in seq and 132 in seq and 240 in seq:\n",
    "        print(p)\n",
    "        print(seq)"
   ]
  },
  {
   "cell_type": "code",
   "execution_count": 36,
   "metadata": {},
   "outputs": [
    {
     "name": "stderr",
     "output_type": "stream",
     "text": [
      "  0%|          | 0/10000000 [00:00<?, ?it/s]/anaconda3/lib/python3.7/site-packages/ipykernel_launcher.py:8: RuntimeWarning: divide by zero encountered in long_scalars\n",
      "  \n",
      "  0%|          | 34404/10000000 [00:00<01:27, 114014.02it/s]/anaconda3/lib/python3.7/site-packages/ipykernel_launcher.py:8: RuntimeWarning: invalid value encountered in long_scalars\n",
      "  \n",
      " 19%|█▊        | 1871788/10000000 [00:16<01:11, 113288.48it/s]"
     ]
    },
    {
     "name": "stdout",
     "output_type": "stream",
     "text": [
      "(-4, 3, 0, -4, 2, 0, -4)\n",
      "[1.0, 2.5, 3.0, 3.25, 3.4000000000000004, 3.5]\n",
      "(-4, 3, 0, -2, 1, 0, -4)\n",
      "[1.0, 2.5, 3.0, 3.25, 3.4000000000000004, 3.5]\n",
      "(-4, 3, 0, 2, -1, 0, -4)\n",
      "[1.0, 2.5, 3.0, 3.25, 3.4000000000000004, 3.5]\n",
      "(-4, 3, 0, 4, -2, 0, -4)\n",
      "[1.0, 2.5, 3.0, 3.25, 3.4000000000000004, 3.5]\n"
     ]
    },
    {
     "name": "stderr",
     "output_type": "stream",
     "text": [
      " 20%|█▉        | 1976529/10000000 [00:17<01:08, 116334.23it/s]"
     ]
    },
    {
     "name": "stdout",
     "output_type": "stream",
     "text": [
      "(-4, 4, 0, -3, 2, 0, -2)\n",
      "[1.0, 2.5, 3.0, 3.25, 3.4000000000000004, 3.5]\n",
      "(-4, 4, 0, 3, -2, 0, -2)\n",
      "[1.0, 2.5, 3.0, 3.25, 3.4000000000000004, 3.5]\n"
     ]
    },
    {
     "name": "stderr",
     "output_type": "stream",
     "text": [
      " 28%|██▊       | 2766383/10000000 [00:23<01:01, 116813.83it/s]"
     ]
    },
    {
     "name": "stdout",
     "output_type": "stream",
     "text": [
      "(-3, 2, 0, -3, 1, 0, -5)\n",
      "[1.0, 2.5, 3.0, 3.25, 3.4000000000000004, 3.5]\n",
      "(-3, 2, 0, 3, -1, 0, -5)\n",
      "[1.0, 2.5, 3.0, 3.25, 3.4000000000000004, 3.5]\n"
     ]
    },
    {
     "name": "stderr",
     "output_type": "stream",
     "text": [
      " 29%|██▊       | 2872062/10000000 [00:24<01:00, 116971.46it/s]"
     ]
    },
    {
     "name": "stdout",
     "output_type": "stream",
     "text": [
      "(-3, 3, 0, -4, 2, 0, -2)\n",
      "[1.0, 2.5, 3.0, 3.25, 3.4000000000000004, 3.5]\n",
      "(-3, 3, 0, -2, 1, 0, -2)\n",
      "[1.0, 2.5, 3.0, 3.25, 3.4000000000000004, 3.5]\n",
      "(-3, 3, 0, 2, -1, 0, -2)\n",
      "[1.0, 2.5, 3.0, 3.25, 3.4000000000000004, 3.5]\n",
      "(-3, 3, 0, 4, -2, 0, -2)\n",
      "[1.0, 2.5, 3.0, 3.25, 3.4000000000000004, 3.5]\n"
     ]
    },
    {
     "name": "stderr",
     "output_type": "stream",
     "text": [
      " 38%|███▊      | 3772690/10000000 [00:32<00:52, 117894.58it/s]"
     ]
    },
    {
     "name": "stdout",
     "output_type": "stream",
     "text": [
      "(-2, 2, 0, -3, 1, 0, -2)\n",
      "[1.0, 2.5, 3.0, 3.25, 3.4000000000000004, 3.5]\n",
      "(-2, 2, 0, 3, -1, 0, -2)\n",
      "[1.0, 2.5, 3.0, 3.25, 3.4000000000000004, 3.5]\n"
     ]
    },
    {
     "name": "stderr",
     "output_type": "stream",
     "text": [
      " 39%|███▊      | 3866869/10000000 [00:33<00:52, 117338.14it/s]"
     ]
    },
    {
     "name": "stdout",
     "output_type": "stream",
     "text": [
      "(-2, 3, 0, -4, 2, 0, 0)\n",
      "[1.0, 2.5, 3.0, 3.25, 3.4, 3.5]\n",
      "(-2, 3, 0, -2, 1, 0, 0)\n",
      "[1.0, 2.5, 3.0, 3.25, 3.4, 3.5]\n",
      "(-2, 3, 0, 2, -1, 0, 0)\n",
      "[1.0, 2.5, 3.0, 3.25, 3.4, 3.5]\n",
      "(-2, 3, 0, 4, -2, 0, 0)\n",
      "[1.0, 2.5, 3.0, 3.25, 3.4, 3.5]\n"
     ]
    },
    {
     "name": "stderr",
     "output_type": "stream",
     "text": [
      " 40%|███▉      | 3972719/10000000 [00:34<00:51, 117596.32it/s]"
     ]
    },
    {
     "name": "stdout",
     "output_type": "stream",
     "text": [
      "(-2, 4, 0, -3, 2, 0, 1)\n",
      "[1.0, 2.5, 3.0, 3.25, 3.4, 3.5]\n",
      "(-2, 4, 0, 3, -2, 0, 1)\n",
      "[1.0, 2.5, 3.0, 3.25, 3.4, 3.5]\n"
     ]
    },
    {
     "name": "stderr",
     "output_type": "stream",
     "text": [
      " 48%|████▊     | 4771771/10000000 [00:41<00:44, 117767.35it/s]"
     ]
    },
    {
     "name": "stdout",
     "output_type": "stream",
     "text": [
      "(-1, 2, 0, -3, 1, 0, 1)\n",
      "[1.0, 2.5, 3.0, 3.25, 3.4, 3.5]\n",
      "(-1, 2, 0, 3, -1, 0, 1)\n",
      "[1.0, 2.5, 3.0, 3.25, 3.4, 3.5]\n"
     ]
    },
    {
     "name": "stderr",
     "output_type": "stream",
     "text": [
      " 49%|████▊     | 4864120/10000000 [00:41<00:44, 114951.72it/s]"
     ]
    },
    {
     "name": "stdout",
     "output_type": "stream",
     "text": [
      "(-1, 3, 0, -4, 2, 0, 2)\n",
      "[1.0, 2.5, 3.0, 3.25, 3.4, 3.5]\n",
      "(-1, 3, 0, -2, 1, 0, 2)\n",
      "[1.0, 2.5, 3.0, 3.25, 3.4, 3.5]\n",
      "(-1, 3, 0, 2, -1, 0, 2)\n",
      "[1.0, 2.5, 3.0, 3.25, 3.4, 3.5]\n",
      "(-1, 3, 0, 4, -2, 0, 2)\n",
      "[1.0, 2.5, 3.0, 3.25, 3.4, 3.5]\n"
     ]
    },
    {
     "name": "stderr",
     "output_type": "stream",
     "text": [
      " 50%|████▉     | 4966980/10000000 [00:42<00:46, 109247.13it/s]"
     ]
    },
    {
     "name": "stdout",
     "output_type": "stream",
     "text": [
      "(-1, 4, 0, -3, 1, -2, 1)\n",
      "[-inf, 1.0, 2.5, 3.0, 3.25, 3.4]\n",
      "(-1, 4, 0, 3, -1, 2, 1)\n",
      "[inf, 1.0, 2.5, 3.0, 3.25, 3.4]\n"
     ]
    },
    {
     "name": "stderr",
     "output_type": "stream",
     "text": [
      " 51%|█████▏    | 5138391/10000000 [00:44<00:42, 115367.14it/s]"
     ]
    },
    {
     "name": "stdout",
     "output_type": "stream",
     "text": [
      "(0, -4, -4, 3, 2, 0, -4)\n",
      "[1.0, 2.5, 3.0, 3.25, 3.4000000000000004, 3.5]\n",
      "(0, -4, -3, 3, 2, 0, -2)\n",
      "[1.0, 2.5, 3.0, 3.25, 3.4000000000000004, 3.5]\n",
      "(0, -4, -2, 3, 2, 0, 0)\n",
      "[1.0, 2.5, 3.0, 3.25, 3.4, 3.5]\n"
     ]
    },
    {
     "name": "stderr",
     "output_type": "stream",
     "text": [
      " 52%|█████▏    | 5161457/10000000 [00:44<00:42, 115066.57it/s]"
     ]
    },
    {
     "name": "stdout",
     "output_type": "stream",
     "text": [
      "(0, -4, -1, 3, 2, 0, 2)\n",
      "[1.0, 2.5, 3.0, 3.25, 3.4, 3.5]\n",
      "(0, -4, 0, -3, -2, 0, 4)\n",
      "[1.0, 2.5, 3.0, 3.25, 3.4, 3.5]\n",
      "(0, -4, 0, -3, -2, 4, 4)\n",
      "[inf, 1.0, 2.5, 3.0, 3.25, 3.4]\n",
      "(0, -4, 0, 3, 2, -4, 4)\n",
      "[-inf, 1.0, 2.5, 3.0, 3.25, 3.4]\n",
      "(0, -4, 0, 3, 2, 0, 4)\n",
      "[1.0, 2.5, 3.0, 3.25, 3.4, 3.5]\n",
      "(0, -4, 1, -5, -2, 4, 2)\n",
      "[inf, 1.0, 2.5, 3.0, 3.25, 3.4]\n",
      "(0, -4, 1, -3, -2, 0, 2)\n",
      "[1.0, 2.5, 3.0, 3.25, 3.4, 3.5]\n",
      "(0, -4, 2, -3, -2, 0, 0)\n",
      "[1.0, 2.5, 3.0, 3.25, 3.4, 3.5]\n"
     ]
    },
    {
     "name": "stderr",
     "output_type": "stream",
     "text": [
      " 52%|█████▏    | 5196103/10000000 [00:44<00:42, 114194.87it/s]"
     ]
    },
    {
     "name": "stdout",
     "output_type": "stream",
     "text": [
      "(0, -4, 3, -3, -2, 0, -2)\n",
      "[1.0, 2.5, 3.0, 3.25, 3.4000000000000004, 3.5]\n",
      "(0, -4, 4, -3, -2, 0, -4)\n",
      "[1.0, 2.5, 3.0, 3.25, 3.4000000000000004, 3.5]\n"
     ]
    },
    {
     "name": "stderr",
     "output_type": "stream",
     "text": [
      " 52%|█████▏    | 5242755/10000000 [00:45<00:41, 114330.68it/s]"
     ]
    },
    {
     "name": "stdout",
     "output_type": "stream",
     "text": [
      "(0, -3, -4, 4, 2, 0, -2)\n",
      "[1.0, 2.5, 3.0, 3.25, 3.4000000000000004, 3.5]\n",
      "(0, -3, -3, 2, 1, 0, -5)\n",
      "[1.0, 2.5, 3.0, 3.25, 3.4000000000000004, 3.5]\n",
      "(0, -3, -2, 2, 1, 0, -2)\n",
      "[1.0, 2.5, 3.0, 3.25, 3.4000000000000004, 3.5]\n",
      "(0, -3, -2, 4, 2, 0, 1)\n",
      "[1.0, 2.5, 3.0, 3.25, 3.4, 3.5]\n"
     ]
    },
    {
     "name": "stderr",
     "output_type": "stream",
     "text": [
      " 53%|█████▎    | 5265275/10000000 [00:45<00:44, 105615.26it/s]"
     ]
    },
    {
     "name": "stdout",
     "output_type": "stream",
     "text": [
      "(0, -3, -1, 2, 1, 0, 1)\n",
      "[1.0, 2.5, 3.0, 3.25, 3.4, 3.5]\n",
      "(0, -3, -1, 4, 1, -2, 1)\n",
      "[-inf, 1.0, 2.5, 3.0, 3.25, 3.4]\n",
      "(0, -3, 0, -4, -2, 0, 4)\n",
      "[1.0, 2.5, 3.0, 3.25, 3.4, 3.5]\n",
      "(0, -3, 0, -4, -2, 4, 4)\n",
      "[inf, 1.0, 2.5, 3.0, 3.25, 3.4]\n",
      "(0, -3, 0, -2, -1, 0, 4)\n",
      "[1.0, 2.5, 3.0, 3.25, 3.4, 3.5]\n",
      "(0, -3, 0, -2, -1, 2, 4)\n",
      "[inf, 1.0, 2.5, 3.0, 3.25, 3.4]\n",
      "(0, -3, 0, -2, -1, 4, 4)\n",
      "[7.0, inf, 1.0, 2.5, 3.0, 3.25]\n",
      "(0, -3, 0, 2, 1, -4, 4)\n",
      "[7.0, -inf, 1.0, 2.5, 3.0, 3.25]\n",
      "(0, -3, 0, 2, 1, -2, 4)\n",
      "[-inf, 1.0, 2.5, 3.0, 3.25, 3.4]\n",
      "(0, -3, 0, 2, 1, 0, 4)\n",
      "[1.0, 2.5, 3.0, 3.25, 3.4, 3.5]\n",
      "(0, -3, 0, 4, 2, -4, 4)\n",
      "[-inf, 1.0, 2.5, 3.0, 3.25, 3.4]\n",
      "(0, -3, 0, 4, 2, 0, 4)\n",
      "[1.0, 2.5, 3.0, 3.25, 3.4, 3.5]\n",
      "(0, -3, 1, -4, -1, 2, 1)\n",
      "[inf, 1.0, 2.5, 3.0, 3.25, 3.4]\n",
      "(0, -3, 1, -2, -1, 0, 1)\n",
      "[1.0, 2.5, 3.0, 3.25, 3.4, 3.5]\n",
      "(0, -3, 2, -4, -2, 0, 1)\n",
      "[1.0, 2.5, 3.0, 3.25, 3.4, 3.5]\n"
     ]
    },
    {
     "name": "stderr",
     "output_type": "stream",
     "text": [
      " 53%|█████▎    | 5286062/10000000 [00:45<00:47, 98889.82it/s] "
     ]
    },
    {
     "name": "stdout",
     "output_type": "stream",
     "text": [
      "(0, -3, 2, -2, -1, 0, -2)\n",
      "[1.0, 2.5, 3.0, 3.25, 3.4000000000000004, 3.5]\n",
      "(0, -3, 3, -2, -1, 0, -5)\n",
      "[1.0, 2.5, 3.0, 3.25, 3.4000000000000004, 3.5]\n",
      "(0, -3, 4, -4, -2, 0, -2)\n",
      "[1.0, 2.5, 3.0, 3.25, 3.4000000000000004, 3.5]\n"
     ]
    },
    {
     "name": "stderr",
     "output_type": "stream",
     "text": [
      " 53%|█████▎    | 5340532/10000000 [00:46<00:42, 108560.08it/s]"
     ]
    },
    {
     "name": "stdout",
     "output_type": "stream",
     "text": [
      "(0, -2, -4, 3, 1, 0, -4)\n",
      "[1.0, 2.5, 3.0, 3.25, 3.4000000000000004, 3.5]\n",
      "(0, -2, -3, 3, 1, 0, -2)\n",
      "[1.0, 2.5, 3.0, 3.25, 3.4000000000000004, 3.5]\n",
      "(0, -2, -2, 3, 1, 0, 0)\n",
      "[1.0, 2.5, 3.0, 3.25, 3.4, 3.5]\n"
     ]
    },
    {
     "name": "stderr",
     "output_type": "stream",
     "text": [
      " 54%|█████▎    | 5362447/10000000 [00:46<00:42, 109048.20it/s]"
     ]
    },
    {
     "name": "stdout",
     "output_type": "stream",
     "text": [
      "(0, -2, -1, 3, 1, 0, 2)\n",
      "[1.0, 2.5, 3.0, 3.25, 3.4, 3.5]\n",
      "(0, -2, 0, -3, -1, 0, 4)\n",
      "[1.0, 2.5, 3.0, 3.25, 3.4, 3.5]\n",
      "(0, -2, 0, -3, -1, 2, 4)\n",
      "[inf, 1.0, 2.5, 3.0, 3.25, 3.4]\n",
      "(0, -2, 0, -3, -1, 4, 4)\n",
      "[7.0, inf, 1.0, 2.5, 3.0, 3.25]\n",
      "(0, -2, 0, 3, 1, -4, 4)\n",
      "[7.0, -inf, 1.0, 2.5, 3.0, 3.25]\n",
      "(0, -2, 0, 3, 1, -2, 4)\n",
      "[-inf, 1.0, 2.5, 3.0, 3.25, 3.4]\n",
      "(0, -2, 0, 3, 1, 0, 4)\n",
      "[1.0, 2.5, 3.0, 3.25, 3.4, 3.5]\n",
      "(0, -2, 1, -5, -1, 2, 2)\n",
      "[inf, 1.0, 2.5, 3.0, 3.25, 3.4]\n",
      "(0, -2, 1, -3, -1, 0, 2)\n",
      "[1.0, 2.5, 3.0, 3.25, 3.4, 3.5]\n"
     ]
    },
    {
     "name": "stderr",
     "output_type": "stream",
     "text": [
      " 54%|█████▍    | 5384831/10000000 [00:46<00:41, 110513.55it/s]"
     ]
    },
    {
     "name": "stdout",
     "output_type": "stream",
     "text": [
      "(0, -2, 2, -3, -1, 0, 0)\n",
      "[1.0, 2.5, 3.0, 3.25, 3.4, 3.5]\n",
      "(0, -2, 3, -3, -1, 0, -2)\n",
      "[1.0, 2.5, 3.0, 3.25, 3.4000000000000004, 3.5]\n",
      "(0, -2, 4, -3, -1, 0, -4)\n",
      "[1.0, 2.5, 3.0, 3.25, 3.4000000000000004, 3.5]\n"
     ]
    },
    {
     "name": "stderr",
     "output_type": "stream",
     "text": [
      " 57%|█████▋    | 5732517/10000000 [00:49<00:43, 98540.80it/s] "
     ]
    },
    {
     "name": "stdout",
     "output_type": "stream",
     "text": [
      "(0, 2, -4, 3, -1, 0, -4)\n",
      "[1.0, 2.5, 3.0, 3.25, 3.4000000000000004, 3.5]\n",
      "(0, 2, -3, 3, -1, 0, -2)\n",
      "[1.0, 2.5, 3.0, 3.25, 3.4000000000000004, 3.5]\n",
      "(0, 2, -2, 3, -1, 0, 0)\n",
      "[1.0, 2.5, 3.0, 3.25, 3.4, 3.5]\n"
     ]
    },
    {
     "name": "stderr",
     "output_type": "stream",
     "text": [
      " 58%|█████▊    | 5766307/10000000 [00:50<00:39, 107638.35it/s]"
     ]
    },
    {
     "name": "stdout",
     "output_type": "stream",
     "text": [
      "(0, 2, -1, 3, -1, 0, 2)\n",
      "[1.0, 2.5, 3.0, 3.25, 3.4, 3.5]\n",
      "(0, 2, 0, -3, 1, -4, 4)\n",
      "[7.0, -inf, 1.0, 2.5, 3.0, 3.25]\n",
      "(0, 2, 0, -3, 1, -2, 4)\n",
      "[-inf, 1.0, 2.5, 3.0, 3.25, 3.4]\n",
      "(0, 2, 0, -3, 1, 0, 4)\n",
      "[1.0, 2.5, 3.0, 3.25, 3.4, 3.5]\n",
      "(0, 2, 0, 3, -1, 0, 4)\n",
      "[1.0, 2.5, 3.0, 3.25, 3.4, 3.5]\n",
      "(0, 2, 0, 3, -1, 2, 4)\n",
      "[inf, 1.0, 2.5, 3.0, 3.25, 3.4]\n",
      "(0, 2, 0, 3, -1, 4, 4)\n",
      "[7.0, inf, 1.0, 2.5, 3.0, 3.25]\n",
      "(0, 2, 1, -5, 1, -2, 2)\n",
      "[-inf, 1.0, 2.5, 3.0, 3.25, 3.4]\n",
      "(0, 2, 1, -3, 1, 0, 2)\n",
      "[1.0, 2.5, 3.0, 3.25, 3.4, 3.5]\n"
     ]
    },
    {
     "name": "stderr",
     "output_type": "stream",
     "text": [
      " 58%|█████▊    | 5800393/10000000 [00:50<00:37, 111569.02it/s]"
     ]
    },
    {
     "name": "stdout",
     "output_type": "stream",
     "text": [
      "(0, 2, 2, -3, 1, 0, 0)\n",
      "[1.0, 2.5, 3.0, 3.25, 3.4, 3.5]\n",
      "(0, 2, 3, -3, 1, 0, -2)\n",
      "[1.0, 2.5, 3.0, 3.25, 3.4000000000000004, 3.5]\n",
      "(0, 2, 4, -3, 1, 0, -4)\n",
      "[1.0, 2.5, 3.0, 3.25, 3.4000000000000004, 3.5]\n"
     ]
    },
    {
     "name": "stderr",
     "output_type": "stream",
     "text": [
      " 58%|█████▊    | 5833598/10000000 [00:50<00:45, 91768.15it/s] "
     ]
    },
    {
     "name": "stdout",
     "output_type": "stream",
     "text": [
      "(0, 3, -4, 4, -2, 0, -2)\n",
      "[1.0, 2.5, 3.0, 3.25, 3.4000000000000004, 3.5]\n",
      "(0, 3, -3, 2, -1, 0, -5)\n",
      "[1.0, 2.5, 3.0, 3.25, 3.4000000000000004, 3.5]\n"
     ]
    },
    {
     "name": "stderr",
     "output_type": "stream",
     "text": [
      "\r",
      " 58%|█████▊    | 5843166/10000000 [00:50<00:49, 83449.19it/s]"
     ]
    },
    {
     "name": "stdout",
     "output_type": "stream",
     "text": [
      "(0, 3, -2, 2, -1, 0, -2)\n",
      "[1.0, 2.5, 3.0, 3.25, 3.4000000000000004, 3.5]\n",
      "(0, 3, -2, 4, -2, 0, 1)\n",
      "[1.0, 2.5, 3.0, 3.25, 3.4, 3.5]\n",
      "(0, 3, -1, 2, -1, 0, 1)\n",
      "[1.0, 2.5, 3.0, 3.25, 3.4, 3.5]\n",
      "(0, 3, -1, 4, -1, 2, 1)\n",
      "[inf, 1.0, 2.5, 3.0, 3.25, 3.4]\n"
     ]
    },
    {
     "name": "stderr",
     "output_type": "stream",
     "text": [
      " 59%|█████▊    | 5871845/10000000 [00:51<00:46, 88421.76it/s]"
     ]
    },
    {
     "name": "stdout",
     "output_type": "stream",
     "text": [
      "(0, 3, 0, -4, 2, -4, 4)\n",
      "[-inf, 1.0, 2.5, 3.0, 3.25, 3.4]\n",
      "(0, 3, 0, -4, 2, 0, 4)\n",
      "[1.0, 2.5, 3.0, 3.25, 3.4, 3.5]\n",
      "(0, 3, 0, -2, 1, -4, 4)\n",
      "[7.0, -inf, 1.0, 2.5, 3.0, 3.25]\n",
      "(0, 3, 0, -2, 1, -2, 4)\n",
      "[-inf, 1.0, 2.5, 3.0, 3.25, 3.4]\n",
      "(0, 3, 0, -2, 1, 0, 4)\n",
      "[1.0, 2.5, 3.0, 3.25, 3.4, 3.5]\n",
      "(0, 3, 0, 2, -1, 0, 4)\n",
      "[1.0, 2.5, 3.0, 3.25, 3.4, 3.5]\n",
      "(0, 3, 0, 2, -1, 2, 4)\n",
      "[inf, 1.0, 2.5, 3.0, 3.25, 3.4]\n",
      "(0, 3, 0, 2, -1, 4, 4)\n",
      "[7.0, inf, 1.0, 2.5, 3.0, 3.25]\n",
      "(0, 3, 0, 4, -2, 0, 4)\n",
      "[1.0, 2.5, 3.0, 3.25, 3.4, 3.5]\n",
      "(0, 3, 0, 4, -2, 4, 4)\n",
      "[inf, 1.0, 2.5, 3.0, 3.25, 3.4]\n",
      "(0, 3, 1, -4, 1, -2, 1)\n",
      "[-inf, 1.0, 2.5, 3.0, 3.25, 3.4]\n",
      "(0, 3, 1, -2, 1, 0, 1)\n",
      "[1.0, 2.5, 3.0, 3.25, 3.4, 3.5]\n",
      "(0, 3, 2, -4, 2, 0, 1)\n",
      "[1.0, 2.5, 3.0, 3.25, 3.4, 3.5]\n"
     ]
    },
    {
     "name": "stderr",
     "output_type": "stream",
     "text": [
      " 59%|█████▉    | 5900902/10000000 [00:51<00:43, 93573.51it/s]"
     ]
    },
    {
     "name": "stdout",
     "output_type": "stream",
     "text": [
      "(0, 3, 2, -2, 1, 0, -2)\n",
      "[1.0, 2.5, 3.0, 3.25, 3.4000000000000004, 3.5]\n",
      "(0, 3, 3, -2, 1, 0, -5)\n",
      "[1.0, 2.5, 3.0, 3.25, 3.4000000000000004, 3.5]\n",
      "(0, 3, 4, -4, 2, 0, -2)\n",
      "[1.0, 2.5, 3.0, 3.25, 3.4000000000000004, 3.5]\n"
     ]
    },
    {
     "name": "stderr",
     "output_type": "stream",
     "text": [
      " 59%|█████▉    | 5927135/10000000 [00:51<00:51, 79006.15it/s]"
     ]
    },
    {
     "name": "stdout",
     "output_type": "stream",
     "text": [
      "(0, 4, -4, 3, -2, 0, -4)\n",
      "[1.0, 2.5, 3.0, 3.25, 3.4000000000000004, 3.5]\n",
      "(0, 4, -3, 3, -2, 0, -2)\n",
      "[1.0, 2.5, 3.0, 3.25, 3.4000000000000004, 3.5]\n"
     ]
    },
    {
     "name": "stderr",
     "output_type": "stream",
     "text": [
      " 60%|█████▉    | 5952754/10000000 [00:52<00:54, 74886.15it/s]"
     ]
    },
    {
     "name": "stdout",
     "output_type": "stream",
     "text": [
      "(0, 4, -2, 3, -2, 0, 0)\n",
      "[1.0, 2.5, 3.0, 3.25, 3.4, 3.5]\n",
      "(0, 4, -1, 3, -2, 0, 2)\n",
      "[1.0, 2.5, 3.0, 3.25, 3.4, 3.5]\n",
      "(0, 4, 0, -3, 2, -4, 4)\n",
      "[-inf, 1.0, 2.5, 3.0, 3.25, 3.4]\n",
      "(0, 4, 0, -3, 2, 0, 4)\n",
      "[1.0, 2.5, 3.0, 3.25, 3.4, 3.5]\n",
      "(0, 4, 0, 3, -2, 0, 4)\n",
      "[1.0, 2.5, 3.0, 3.25, 3.4, 3.5]\n",
      "(0, 4, 0, 3, -2, 4, 4)\n",
      "[inf, 1.0, 2.5, 3.0, 3.25, 3.4]\n",
      "(0, 4, 1, -5, 2, -4, 2)"
     ]
    },
    {
     "name": "stderr",
     "output_type": "stream",
     "text": [
      " 60%|█████▉    | 5981126/10000000 [00:52<00:46, 86789.85it/s]"
     ]
    },
    {
     "name": "stdout",
     "output_type": "stream",
     "text": [
      "\n",
      "[-inf, 1.0, 2.5, 3.0, 3.25, 3.4]\n",
      "(0, 4, 1, -3, 2, 0, 2)\n",
      "[1.0, 2.5, 3.0, 3.25, 3.4, 3.5]\n",
      "(0, 4, 2, -3, 2, 0, 0)\n",
      "[1.0, 2.5, 3.0, 3.25, 3.4, 3.5]\n",
      "(0, 4, 3, -3, 2, 0, -2)\n",
      "[1.0, 2.5, 3.0, 3.25, 3.4000000000000004, 3.5]\n"
     ]
    },
    {
     "name": "stderr",
     "output_type": "stream",
     "text": [
      " 60%|██████    | 6014494/10000000 [00:52<00:39, 101755.17it/s]"
     ]
    },
    {
     "name": "stdout",
     "output_type": "stream",
     "text": [
      "(0, 4, 4, -3, 2, 0, -4)\n",
      "[1.0, 2.5, 3.0, 3.25, 3.4000000000000004, 3.5]\n"
     ]
    },
    {
     "name": "stderr",
     "output_type": "stream",
     "text": [
      " 61%|██████    | 6068594/10000000 [00:53<00:37, 105129.65it/s]"
     ]
    },
    {
     "name": "stdout",
     "output_type": "stream",
     "text": [
      "(1, -5, 0, -4, -2, 4, 2)\n",
      "[inf, 1.0, 2.5, 3.0, 3.25, 3.4]\n",
      "(1, -5, 0, -2, -1, 2, 2)\n",
      "[inf, 1.0, 2.5, 3.0, 3.25, 3.4]\n",
      "(1, -5, 0, 2, 1, -2, 2)\n",
      "[-inf, 1.0, 2.5, 3.0, 3.25, 3.4]\n",
      "(1, -5, 0, 4, 2, -4, 2)\n",
      "[-inf, 1.0, 2.5, 3.0, 3.25, 3.4]\n"
     ]
    },
    {
     "name": "stderr",
     "output_type": "stream",
     "text": [
      " 62%|██████▏   | 6172379/10000000 [00:54<00:33, 115221.31it/s]"
     ]
    },
    {
     "name": "stdout",
     "output_type": "stream",
     "text": [
      "(1, -4, 0, -3, -1, 2, 1)\n",
      "[inf, 1.0, 2.5, 3.0, 3.25, 3.4]\n",
      "(1, -4, 0, 3, 1, -2, 1)\n",
      "[-inf, 1.0, 2.5, 3.0, 3.25, 3.4]\n"
     ]
    },
    {
     "name": "stderr",
     "output_type": "stream",
     "text": [
      " 63%|██████▎   | 6262716/10000000 [00:55<00:35, 104298.06it/s]"
     ]
    },
    {
     "name": "stdout",
     "output_type": "stream",
     "text": [
      "(1, -3, 0, -4, -2, 0, 2)\n",
      "[1.0, 2.5, 3.0, 3.25, 3.4, 3.5]\n",
      "(1, -3, 0, -2, -1, 0, 2)\n",
      "[1.0, 2.5, 3.0, 3.25, 3.4, 3.5]\n",
      "(1, -3, 0, 2, 1, 0, 2)\n",
      "[1.0, 2.5, 3.0, 3.25, 3.4, 3.5]\n",
      "(1, -3, 0, 4, 2, 0, 2)\n",
      "[1.0, 2.5, 3.0, 3.25, 3.4, 3.5]\n"
     ]
    },
    {
     "name": "stderr",
     "output_type": "stream",
     "text": [
      " 64%|██████▎   | 6364072/10000000 [00:56<00:32, 113018.18it/s]"
     ]
    },
    {
     "name": "stdout",
     "output_type": "stream",
     "text": [
      "(1, -2, 0, -3, -1, 0, 1)\n",
      "[1.0, 2.5, 3.0, 3.25, 3.4, 3.5]\n",
      "(1, -2, 0, 3, 1, 0, 1)\n",
      "[1.0, 2.5, 3.0, 3.25, 3.4, 3.5]\n"
     ]
    },
    {
     "name": "stderr",
     "output_type": "stream",
     "text": [
      " 72%|███████▏  | 7169046/10000000 [01:03<00:24, 114399.94it/s]"
     ]
    },
    {
     "name": "stdout",
     "output_type": "stream",
     "text": [
      "(2, -4, 0, -3, -2, 0, 1)\n",
      "[1.0, 2.5, 3.0, 3.25, 3.4, 3.5]\n",
      "(2, -4, 0, 3, 2, 0, 1)\n",
      "[1.0, 2.5, 3.0, 3.25, 3.4, 3.5]\n"
     ]
    },
    {
     "name": "stderr",
     "output_type": "stream",
     "text": [
      " 73%|███████▎  | 7272059/10000000 [01:04<00:24, 110776.25it/s]"
     ]
    },
    {
     "name": "stdout",
     "output_type": "stream",
     "text": [
      "(2, -3, 0, -4, -2, 0, 0)\n",
      "[1.0, 2.5, 3.0, 3.25, 3.4, 3.5]\n",
      "(2, -3, 0, -2, -1, 0, 0)\n",
      "[1.0, 2.5, 3.0, 3.25, 3.4, 3.5]\n",
      "(2, -3, 0, 2, 1, 0, 0)\n",
      "[1.0, 2.5, 3.0, 3.25, 3.4, 3.5]\n",
      "(2, -3, 0, 4, 2, 0, 0)\n",
      "[1.0, 2.5, 3.0, 3.25, 3.4, 3.5]\n"
     ]
    },
    {
     "name": "stderr",
     "output_type": "stream",
     "text": [
      " 74%|███████▍  | 7375201/10000000 [01:04<00:23, 113032.10it/s]"
     ]
    },
    {
     "name": "stdout",
     "output_type": "stream",
     "text": [
      "(2, -2, 0, -3, -1, 0, -2)\n",
      "[1.0, 2.5, 3.0, 3.25, 3.4000000000000004, 3.5]\n",
      "(2, -2, 0, 3, 1, 0, -2)\n",
      "[1.0, 2.5, 3.0, 3.25, 3.4000000000000004, 3.5]\n"
     ]
    },
    {
     "name": "stderr",
     "output_type": "stream",
     "text": [
      " 83%|████████▎ | 8273916/10000000 [01:12<00:14, 115318.57it/s]"
     ]
    },
    {
     "name": "stdout",
     "output_type": "stream",
     "text": [
      "(3, -3, 0, -4, -2, 0, -2)\n",
      "[1.0, 2.5, 3.0, 3.25, 3.4000000000000004, 3.5]\n",
      "(3, -3, 0, -2, -1, 0, -2)\n",
      "[1.0, 2.5, 3.0, 3.25, 3.4000000000000004, 3.5]\n",
      "(3, -3, 0, 2, 1, 0, -2)\n",
      "[1.0, 2.5, 3.0, 3.25, 3.4000000000000004, 3.5]\n",
      "(3, -3, 0, 4, 2, 0, -2)\n",
      "[1.0, 2.5, 3.0, 3.25, 3.4000000000000004, 3.5]\n"
     ]
    },
    {
     "name": "stderr",
     "output_type": "stream",
     "text": [
      " 84%|████████▎ | 8366927/10000000 [01:13<00:14, 116190.60it/s]"
     ]
    },
    {
     "name": "stdout",
     "output_type": "stream",
     "text": [
      "(3, -2, 0, -3, -1, 0, -5)\n",
      "[1.0, 2.5, 3.0, 3.25, 3.4000000000000004, 3.5]\n",
      "(3, -2, 0, 3, 1, 0, -5)\n",
      "[1.0, 2.5, 3.0, 3.25, 3.4000000000000004, 3.5]\n"
     ]
    },
    {
     "name": "stderr",
     "output_type": "stream",
     "text": [
      " 92%|█████████▏| 9167122/10000000 [01:20<00:08, 102454.26it/s]"
     ]
    },
    {
     "name": "stdout",
     "output_type": "stream",
     "text": [
      "(4, -4, 0, -3, -2, 0, -2)\n",
      "[1.0, 2.5, 3.0, 3.25, 3.4000000000000004, 3.5]\n",
      "(4, -4, 0, 3, 2, 0, -2)\n",
      "[1.0, 2.5, 3.0, 3.25, 3.4000000000000004, 3.5]\n"
     ]
    },
    {
     "name": "stderr",
     "output_type": "stream",
     "text": [
      " 93%|█████████▎| 9268088/10000000 [01:21<00:06, 109677.30it/s]"
     ]
    },
    {
     "name": "stdout",
     "output_type": "stream",
     "text": [
      "(4, -3, 0, -4, -2, 0, -4)\n",
      "[1.0, 2.5, 3.0, 3.25, 3.4000000000000004, 3.5]\n",
      "(4, -3, 0, -2, -1, 0, -4)\n",
      "[1.0, 2.5, 3.0, 3.25, 3.4000000000000004, 3.5]\n",
      "(4, -3, 0, 2, 1, 0, -4)\n",
      "[1.0, 2.5, 3.0, 3.25, 3.4000000000000004, 3.5]\n",
      "(4, -3, 0, 4, 2, 0, -4)\n",
      "[1.0, 2.5, 3.0, 3.25, 3.4000000000000004, 3.5]\n"
     ]
    },
    {
     "name": "stderr",
     "output_type": "stream",
     "text": [
      "100%|██████████| 10000000/10000000 [01:28<00:00, 113580.51it/s]\n"
     ]
    }
   ],
   "source": [
    "import itertools\n",
    "from tqdm import tqdm\n",
    "\n",
    "all_list = [np.arange(-5, 5)]*7\n",
    "all_p = list(itertools.product(*all_list))\n",
    "             \n",
    "for p in tqdm(all_p):\n",
    "    seq = [(p[0]*r+p[1])*(p[2]*r+p[3])/((p[4]*r+p[5])) + p[6] for r in range(2, 13, 2)]\n",
    "    if 1 in seq and 2.5 in seq and 3 in seq and 3.25 in seq:\n",
    "        print(p)\n",
    "        print(seq)"
   ]
  },
  {
   "cell_type": "code",
   "execution_count": 37,
   "metadata": {},
   "outputs": [
    {
     "name": "stdout",
     "output_type": "stream",
     "text": [
      "1.0\n",
      "2.5\n",
      "3.0\n",
      "3.25\n",
      "3.4\n",
      "3.5\n"
     ]
    }
   ],
   "source": [
    "for r in range(2, 13, 2):\n",
    "    print(2*(2*r-3)/r)"
   ]
  },
  {
   "cell_type": "code",
   "execution_count": 51,
   "metadata": {},
   "outputs": [
    {
     "name": "stdout",
     "output_type": "stream",
     "text": [
      "1.0\n",
      "204.0\n",
      "82320.0\n",
      "64532160.0\n",
      "83545862400.0\n",
      "161576660044800.0\n"
     ]
    }
   ],
   "source": [
    "for r in range(2, 13, 2):\n",
    "    print((2*(r-1)**2-1)*fact(2*r-4)/fact(r-2))"
   ]
  },
  {
   "cell_type": "code",
   "execution_count": 53,
   "metadata": {},
   "outputs": [
    {
     "name": "stdout",
     "output_type": "stream",
     "text": [
      "7.0\n",
      "930.0\n",
      "357840.0\n",
      "274594320.0\n",
      "351100189440.0\n"
     ]
    }
   ],
   "source": [
    "for r in range(3, 13, 2):\n",
    "    print((2*(r-1)**2-1)*fact(2*r-4)/fact(r-1))"
   ]
  },
  {
   "cell_type": "markdown",
   "metadata": {},
   "source": [
    "### $\\phi_2$, $-w^2 \\sin(w)$, $r \\geq 3$"
   ]
  },
  {
   "cell_type": "code",
   "execution_count": 4,
   "metadata": {},
   "outputs": [
    {
     "name": "stdout",
     "output_type": "stream",
     "text": [
      "39.0\n",
      "5.0\n",
      "92.61538461538461\n",
      "4.465116279069767\n",
      "183.5625\n",
      "4.308988764044944\n",
      "307.1186440677966\n",
      "4.233112582781457\n"
     ]
    }
   ],
   "source": [
    "seq = [1, 39, 195, 18060, 80640, 14802480, 63783720, 19589169600, 82923160320]\n",
    "\n",
    "for a, b in zip(seq[:-1], seq[1:]):\n",
    "    print(b/a)"
   ]
  },
  {
   "cell_type": "code",
   "execution_count": 5,
   "metadata": {},
   "outputs": [
    {
     "name": "stdout",
     "output_type": "stream",
     "text": [
      "39/1\n",
      "5/1\n",
      "1204/13\n",
      "192/43\n",
      "2937/16\n",
      "767/178\n",
      "18120/59\n",
      "3196/755\n"
     ]
    }
   ],
   "source": [
    "seq = [1, 39, 195, 18060, 80640, 14802480, 63783720, 19589169600, 82923160320]\n",
    "seq_b = [1, 7, 204, 930, 82320, 357840, 64532160, 274594320, 83545862400, 351100189440]\n",
    "\n",
    "for a, b in zip(seq[:-1], seq[1:]):\n",
    "    pgcd = np.gcd(a, b)\n",
    "    print(\"%d/%d\" % (b/pgcd, a/pgcd))"
   ]
  },
  {
   "cell_type": "code",
   "execution_count": 7,
   "metadata": {},
   "outputs": [
    {
     "name": "stderr",
     "output_type": "stream",
     "text": [
      "  0%|          | 0/23040000 [00:00<?, ?it/s]/anaconda3/lib/python3.7/site-packages/ipykernel_launcher.py:12: RuntimeWarning: divide by zero encountered in long_scalars\n",
      "  if sys.path[0] == '':\n",
      "  1%|          | 171079/23040000 [00:07<16:20, 23331.26it/s]/anaconda3/lib/python3.7/site-packages/ipykernel_launcher.py:12: RuntimeWarning: invalid value encountered in long_scalars\n",
      "  if sys.path[0] == '':\n",
      " 43%|████▎     | 9838426/23040000 [07:19<09:54, 22221.53it/s]"
     ]
    },
    {
     "name": "stdout",
     "output_type": "stream",
     "text": [
      "(1, 2, -5, 2, 0, 1, -1, -4)\n",
      "[-0.0, -8.0, 48.0, 39.0, 47.5, 60.0, 75.15789473684211, 92.61538461538461, 112.23529411764706, 133.95348837209303, 157.73584905660377, 183.5625, 211.42105263157896, 241.30337078651687, 273.20388349514565]\n"
     ]
    },
    {
     "name": "stderr",
     "output_type": "stream",
     "text": [
      "100%|██████████| 23040000/23040000 [16:57<00:00, 22636.17it/s]\n"
     ]
    }
   ],
   "source": [
    "all_list = []\n",
    "all_list.append(np.arange(0, 4)) # Coefficient r**3\n",
    "for i in range(4):\n",
    "    all_list.append(np.arange(-5, 5))\n",
    "all_list.append(np.arange(0, 4)) # Coefficient r**2\n",
    "for i in range(2):\n",
    "    all_list.append(np.arange(-6, 6))\n",
    "    \n",
    "all_p = list(itertools.product(*all_list))\n",
    "             \n",
    "for p in tqdm(all_p):\n",
    "    seq = [(p[0]*r**4 + p[1]*r**3 + p[2]*r**2 + p[3]*r + p[4])/(p[5]*r**2 + p[6]*r + p[7]) for r in range(1, 16, 1)]\n",
    "    if 39 in seq and 183.5625 in seq:\n",
    "        print(p)\n",
    "        print(seq)"
   ]
  },
  {
   "cell_type": "code",
   "execution_count": 13,
   "metadata": {},
   "outputs": [
    {
     "name": "stdout",
     "output_type": "stream",
     "text": [
      "39.0\n",
      "92.61538461538461\n",
      "183.5625\n",
      "307.1186440677966\n"
     ]
    }
   ],
   "source": [
    "for r in range(4, 20, 4):\n",
    "    print((r**4 + 2*r**3 - 5*r**2 + 2*r)/(r**2 - r - 4))"
   ]
  },
  {
   "cell_type": "code",
   "execution_count": 29,
   "metadata": {},
   "outputs": [
    {
     "name": "stdout",
     "output_type": "stream",
     "text": [
      "39.0\n",
      "92.61538461538461\n",
      "183.5625\n",
      "307.1186440677966\n"
     ]
    }
   ],
   "source": [
    "for r in range(3, 10, 2):\n",
    "    print((2*(r-1)*(2*r-3)*(2*r**2-r-2))/(2*r**2 - 5*r + 1))"
   ]
  },
  {
   "cell_type": "code",
   "execution_count": 30,
   "metadata": {},
   "outputs": [
    {
     "name": "stdout",
     "output_type": "stream",
     "text": [
      "5.0\n",
      "4.465116279069767\n",
      "4.308988764044944\n"
     ]
    }
   ],
   "source": [
    "for r in range(4, 10, 2):\n",
    "    print((2*(2*r-3)*(2*r**2-r-2))/(r*(2*r**2 - 5*r + 1)))"
   ]
  },
  {
   "cell_type": "code",
   "execution_count": 31,
   "metadata": {},
   "outputs": [
    {
     "name": "stdout",
     "output_type": "stream",
     "text": [
      "39.0\n",
      "18060.0\n",
      "14802480.0\n"
     ]
    }
   ],
   "source": [
    "for r in range(4, 10, 2):\n",
    "    print((2*r**2-5*r+1)*fact(2*r-4)/(4*fact(r-2)))"
   ]
  },
  {
   "cell_type": "code",
   "execution_count": 32,
   "metadata": {},
   "outputs": [
    {
     "name": "stdout",
     "output_type": "stream",
     "text": [
      "1.0\n",
      "195.0\n",
      "80640.0\n",
      "63783720.0\n"
     ]
    }
   ],
   "source": [
    "for r in range(3, 10, 2):\n",
    "    print((2*r**2-5*r+1)*fact(2*r-4)/(4*(r-1)*fact(r-2)))"
   ]
  },
  {
   "cell_type": "markdown",
   "metadata": {},
   "source": [
    "### $\\phi_2$, $w^3$, $r \\geq 4$"
   ]
  },
  {
   "cell_type": "code",
   "execution_count": 13,
   "metadata": {},
   "outputs": [
    {
     "name": "stdout",
     "output_type": "stream",
     "text": [
      "6.0\n",
      "100.0\n",
      "4.666666666666667\n",
      "189.0\n",
      "4.4\n",
      "312.0\n",
      "4.285714285714286\n"
     ]
    }
   ],
   "source": [
    "seq = [4, 24, 2400, 11200, 2116800, 9313920, 2905943040, 12454041600]\n",
    "\n",
    "for a, b in zip(seq[:-1], seq[1:]):\n",
    "    print(b/a)"
   ]
  },
  {
   "cell_type": "code",
   "execution_count": 32,
   "metadata": {},
   "outputs": [
    {
     "name": "stderr",
     "output_type": "stream",
     "text": [
      " 23%|██▎       | 302721/1327104 [00:13<00:42, 23935.31it/s]"
     ]
    },
    {
     "name": "stdout",
     "output_type": "stream",
     "text": [
      "(1, -3, 2, 0, 0, 3)\n",
      "[0.0, 4.0, 96.0, 2400.0, 67200.0, 2116800.0, 74511360.0, 2905943040.0, 124540416000.0, 5822264448000.0]\n"
     ]
    },
    {
     "name": "stderr",
     "output_type": "stream",
     "text": [
      " 37%|███▋      | 484501/1327104 [00:20<00:35, 23777.44it/s]"
     ]
    },
    {
     "name": "stdout",
     "output_type": "stream",
     "text": [
      "(2, -6, 4, 0, 0, 6)\n",
      "[0.0, 4.0, 96.0, 2400.0, 67200.0, 2116800.0, 74511360.0, 2905943040.0, 124540416000.0, 5822264448000.0]\n"
     ]
    },
    {
     "name": "stderr",
     "output_type": "stream",
     "text": [
      "100%|██████████| 1327104/1327104 [00:56<00:00, 23575.41it/s]\n"
     ]
    }
   ],
   "source": [
    "all_list = []\n",
    "all_list.append(np.arange(0, 6)) # Coefficient r**2\n",
    "for i in range(3):\n",
    "    all_list.append(np.arange(-8, 8))\n",
    "all_list.append(np.arange(0, 6)) # Coefficient r\n",
    "all_list.append(np.arange(1, 10))\n",
    "\n",
    "all_p = list(itertools.product(*all_list))\n",
    "             \n",
    "for p in tqdm(all_p):\n",
    "    seq = [((p[0]*r**3 + p[1]*r**2 + p[2]*r + p[3])/(p[4]*r+p[5]))*fact(2*r-4)/fact(r-2) for r in range(2, 12, 1)]\n",
    "    if 4 in seq and 2400 in seq and 2116800 in seq:\n",
    "        print(p)\n",
    "        print(seq)"
   ]
  },
  {
   "cell_type": "code",
   "execution_count": 87,
   "metadata": {},
   "outputs": [
    {
     "name": "stdout",
     "output_type": "stream",
     "text": [
      "r=4, 4\n",
      "r=5, 24\n",
      "r=6, 2400\n",
      "r=7, 11200\n",
      "r=8, 2116800\n",
      "r=9, 9313920\n",
      "r=10, 2905943040\n",
      "r=11, 12454041600\n"
     ]
    }
   ],
   "source": [
    "f1 = lambda r: (r-1)*(r-2)*fact(2*r-6)/(3*fact(r-4))\n",
    "f2 = lambda r: (r-2)*fact(2*r-6)/(3*fact(r-4))\n",
    "for r in range(4, 12):\n",
    "    if r%2 == 0:\n",
    "        print('r=%d, %d' % (r, f1(r)))\n",
    "    else:\n",
    "        print('r=%d, %d' % (r, f2(r)))"
   ]
  },
  {
   "cell_type": "markdown",
   "metadata": {},
   "source": [
    "### $\\phi_2$, $w^3$, $r \\geq 4$"
   ]
  },
  {
   "cell_type": "code",
   "execution_count": 50,
   "metadata": {},
   "outputs": [
    {
     "name": "stdout",
     "output_type": "stream",
     "text": [
      "[1, 3, 180, 560, 75600, 249480, 60540480, 207567360]\n",
      "3.0\n",
      "60.0\n",
      "3.111111111111111\n",
      "135.0\n",
      "3.3\n",
      "242.66666666666666\n",
      "3.4285714285714284\n"
     ]
    }
   ],
   "source": [
    "seq_a = [4, 24, 2400, 11200, 2116800, 9313920, 2905943040, 12454041600]\n",
    "seq_b = [3, 21, 2220, 10640, 2041200, 9064440, 2845402560, 12246474240]\n",
    "seq = [a-b for a,b in zip(seq_a,seq_b)]\n",
    "print(seq)\n",
    "\n",
    "for a, b in zip(seq[:-1], seq[1:]):\n",
    "    print(b/a)"
   ]
  },
  {
   "cell_type": "code",
   "execution_count": 55,
   "metadata": {},
   "outputs": [
    {
     "name": "stderr",
     "output_type": "stream",
     "text": [
      " 36%|███▋      | 482241/1327104 [00:20<00:35, 23617.51it/s]"
     ]
    },
    {
     "name": "stdout",
     "output_type": "stream",
     "text": [
      "(2, -6, 1, 6, 0, 6)\n",
      "[0.0, 3.0, 84.0, 2220.0, 63840.0, 2041200.0, 72515520.0, 2845402560.0, 122464742400.0, 5742869932800.0]\n"
     ]
    },
    {
     "name": "stderr",
     "output_type": "stream",
     "text": [
      "100%|██████████| 1327104/1327104 [00:56<00:00, 23519.11it/s]\n"
     ]
    }
   ],
   "source": [
    "all_list = []\n",
    "all_list.append(np.arange(0, 6)) # Coefficient r**3\n",
    "for i in range(3):\n",
    "    all_list.append(np.arange(-8, 8))\n",
    "all_list.append(np.arange(0, 6)) # Coefficient r\n",
    "all_list.append(np.arange(1, 10))\n",
    "\n",
    "all_p = list(itertools.product(*all_list))\n",
    "             \n",
    "for p in tqdm(all_p):\n",
    "    seq = [((p[0]*r**3 + p[1]*r**2 + p[2]*r + p[3])/(p[4]*r+p[5]))*fact(2*r-4)/fact(r-2) for r in range(2, 12, 1)]\n",
    "    if 3 in seq and 2220 in seq and 2041200 in seq:\n",
    "        print(p)\n",
    "        print(seq)"
   ]
  },
  {
   "cell_type": "code",
   "execution_count": 57,
   "metadata": {},
   "outputs": [
    {
     "name": "stderr",
     "output_type": "stream",
     "text": [
      " 11%|█         | 143852/1327104 [00:04<00:38, 30503.95it/s]"
     ]
    },
    {
     "name": "stdout",
     "output_type": "stream",
     "text": [
      "(0, 2, -6, 1, 0, 6)\n",
      "[3.0, 84.0, 2220.0, 63840.0, 2041200.0, 72515520.0, 2845402560.0, 122464742400.0]\n"
     ]
    },
    {
     "name": "stderr",
     "output_type": "stream",
     "text": [
      "100%|██████████| 1327104/1327104 [00:43<00:00, 30537.62it/s]\n"
     ]
    }
   ],
   "source": [
    "all_list = []\n",
    "all_list.append(np.arange(0, 6)) # Coefficient r**3\n",
    "for i in range(3):\n",
    "    all_list.append(np.arange(-8, 8))\n",
    "all_list.append(np.arange(0, 6)) # Coefficient r\n",
    "all_list.append(np.arange(1, 10))\n",
    "\n",
    "all_p = list(itertools.product(*all_list))\n",
    "             \n",
    "for p in tqdm(all_p):\n",
    "    seq = [((p[0]*r**3 + p[1]*r**2 + p[2]*r + p[3])/(p[4]*r+p[5]))*fact(2*r-6)/fact(r-4) for r in range(4, 12, 1)]\n",
    "    if 3 in seq and 2220 in seq and 2041200 in seq:\n",
    "        print(p)\n",
    "        print(seq)"
   ]
  },
  {
   "cell_type": "code",
   "execution_count": 86,
   "metadata": {},
   "outputs": [
    {
     "name": "stdout",
     "output_type": "stream",
     "text": [
      "r=4, 3\n",
      "r=5, 21\n",
      "r=6, 2220\n",
      "r=7, 10640\n",
      "r=8, 2041200\n",
      "r=9, 9064440\n",
      "r=10, 2845402560\n",
      "r=11, 12246474240\n"
     ]
    }
   ],
   "source": [
    "f1 = lambda r: (2*r**2-6*r+1)*fact(2*r-6)/(6*fact(r-4))\n",
    "f2 = lambda r: (2*r**2-6*r+1)*fact(2*r-6)/(6*(r-1)*fact(r-4))\n",
    "for r in range(4, 12):\n",
    "    if r%2 == 0:\n",
    "        print('r=%d, %d' % (r, f1(r)))\n",
    "    else:\n",
    "        print('r=%d, %d' % (r, f2(r)))"
   ]
  },
  {
   "cell_type": "markdown",
   "metadata": {},
   "source": [
    "### $\\phi_2$, $w^4\\sin(w)$, $r \\geq 5$"
   ]
  },
  {
   "cell_type": "code",
   "execution_count": 131,
   "metadata": {},
   "outputs": [
    {
     "name": "stdout",
     "output_type": "stream",
     "text": [
      "155.0\n",
      "5.645161290322581\n",
      "210.24\n",
      "4.708904109589041\n",
      "326.976\n",
      "4.435114503816794\n",
      "479.86230636833045\n"
     ]
    }
   ],
   "source": [
    "seq = [1, 155, 875, 183960, 866250, 283242960, 1256214960, 602810208000]\n",
    "\n",
    "for a, b in zip(seq[:-1], seq[1:]):\n",
    "    print(b/a)"
   ]
  },
  {
   "cell_type": "code",
   "execution_count": 132,
   "metadata": {},
   "outputs": [
    {
     "name": "stderr",
     "output_type": "stream",
     "text": [
      "100%|██████████| 6144/6144 [00:00<00:00, 91007.28it/s]"
     ]
    },
    {
     "name": "stdout",
     "output_type": "stream",
     "text": [
      "(2, -7, 1, 24)\n",
      "[155.0, 183960.0, 283242960.0]\n"
     ]
    },
    {
     "name": "stderr",
     "output_type": "stream",
     "text": [
      "\n"
     ]
    }
   ],
   "source": [
    "all_list = []\n",
    "all_list.append([2]) # Coefficient r**2\n",
    "for i in range(2):\n",
    "    all_list.append(np.arange(-8, 8))\n",
    "all_list.append(np.arange(6,30))\n",
    "\n",
    "all_p = list(itertools.product(*all_list))\n",
    "             \n",
    "for p in tqdm(all_p):\n",
    "    seq = [(p[0]*r**2 + p[1]*r + p[2])*fact(2*r-7)/(p[3]*fact(r-5)) for r in range(6, 12, 2)]\n",
    "    if 155 in seq and 183960 in seq:\n",
    "        print(p)\n",
    "        print(seq)"
   ]
  },
  {
   "cell_type": "code",
   "execution_count": 133,
   "metadata": {},
   "outputs": [
    {
     "name": "stdout",
     "output_type": "stream",
     "text": [
      "r=5, 1\n",
      "r=6, 155\n",
      "r=7, 875\n",
      "r=8, 183960\n",
      "r=9, 866250\n",
      "r=10, 283242960\n",
      "r=11, 1256214960\n",
      "r=12, 602810208000\n"
     ]
    }
   ],
   "source": [
    "f1 = lambda r: (2*r**2-7*r+1)*fact(2*r-7)/(24*fact(r-5))\n",
    "f2 = lambda r: (2*r**2-7*r+1)*fact(2*r-7)/(24*(r-1)*fact(r-5))\n",
    "for r in range(5, 13):\n",
    "    if r%2 == 0:\n",
    "        print('r=%d, %d' % (r, f1(r)))\n",
    "    else:\n",
    "        print('r=%d, %d' % (r, f2(r)))"
   ]
  },
  {
   "cell_type": "markdown",
   "metadata": {},
   "source": [
    "### $\\phi_2$, $-w^5$, $r \\geq 6$"
   ]
  },
  {
   "cell_type": "code",
   "execution_count": 4,
   "metadata": {},
   "outputs": [
    {
     "name": "stdout",
     "output_type": "stream",
     "text": [
      "8.0\n",
      "245.0\n",
      "5.142857142857143\n",
      "346.5\n",
      "4.622222222222222\n",
      "495.0\n"
     ]
    }
   ],
   "source": [
    "seq = [6, 48, 11760, 60480, 20956320, 96864768, 47948060160]\n",
    "\n",
    "for a, b in zip(seq[:-1], seq[1:]):\n",
    "    print(b/a)"
   ]
  },
  {
   "cell_type": "code",
   "execution_count": 44,
   "metadata": {},
   "outputs": [
    {
     "name": "stdout",
     "output_type": "stream",
     "text": [
      "r=6, 5.952\n",
      "r=7, 48.000\n",
      "r=8, 11773.440\n",
      "r=9, 60480.000\n",
      "r=10, 20916403.200\n",
      "r=11, 96477308.928\n",
      "r=12, 47657465856.000\n"
     ]
    }
   ],
   "source": [
    "f1 = lambda r: (2*r**2-7*r+1)*fact(2*r-8)/(125*fact(r-6))\n",
    "f2 = lambda r: (2*r**2-7*r+1)*fact(2*r-8)/(125*(r-1)*fact(r-6))\n",
    "for r in range(6, 13):\n",
    "    if r%2 == 0:\n",
    "        print('r=%d, %.3f' % (r, f1(r)))\n",
    "    else:\n",
    "        print('r=%d, %.3f' % (r, f2(r)))"
   ]
  },
  {
   "cell_type": "code",
   "execution_count": 35,
   "metadata": {},
   "outputs": [
    {
     "name": "stderr",
     "output_type": "stream",
     "text": [
      " 25%|██▌       | 112940/449100 [00:02<00:06, 54387.90it/s]"
     ]
    },
    {
     "name": "stdout",
     "output_type": "stream",
     "text": [
      "(2, -7, 125, 8, 6)\n",
      "[1.1904, 48.0, 1681.92, 60480.0, 2324044.8, 96477308.928]\n"
     ]
    },
    {
     "name": "stderr",
     "output_type": "stream",
     "text": [
      "100%|██████████| 449100/449100 [00:08<00:00, 53668.20it/s]\n"
     ]
    }
   ],
   "source": [
    "all_list = []\n",
    "all_list.append([1,2,3,4,5,6]) # Coefficient r**2\n",
    "all_list.append([-9, -8, -7, -6, -5])\n",
    "all_list.append(np.arange(2, 1000, 1))\n",
    "all_list.append([5,6,7,8,9])\n",
    "all_list.append([4,5,6])\n",
    "\n",
    "all_p = list(itertools.product(*all_list))\n",
    "             \n",
    "for p in tqdm(all_p):\n",
    "    seq = [(p[0]*r**2 + p[1]*r + 1)*fact(2*r-p[3])/(p[2]*(r-1)*fact(r-p[4])) for r in range(6, 12, 1)]\n",
    "    if 48 in seq and 60480 in seq:\n",
    "        print(p)\n",
    "        print(seq)"
   ]
  },
  {
   "cell_type": "markdown",
   "metadata": {},
   "source": [
    "### General $\\hat{\\phi}_2$"
   ]
  },
  {
   "cell_type": "code",
   "execution_count": 33,
   "metadata": {},
   "outputs": [
    {
     "name": "stdout",
     "output_type": "stream",
     "text": [
      "$r=2$, $\\hat{L}_{1}(u)$\n",
      "4j/u^4[cos(u)(-1u^1)+(-2u^1)+sin(u)(3u^0)]\n",
      "$r=3$, $\\hat{L}_{1}(u)$\n",
      "48j/u^6[cos(u)(-7u^1)+(-8u^1)+sin(u)(15u^0-1u^2)]\n",
      "$r=4$, $\\hat{L}_{1}(u)$\n",
      "240j/u^8[cos(u)(-204u^1+3u^3)+(-216u^1+4u^3)+sin(u)(420u^0-39u^2)]\n",
      "$r=5$, $\\hat{L}_{1}(u)$\n",
      "13440j/u^10[cos(u)(-930u^1+21u^3)+(-960u^1+24u^3)+sin(u)(1890u^0-195u^2+1u^4)]\n",
      "$r=6$, $\\hat{L}_{1}(u)$\n",
      "60480j/u^12[cos(u)(-82320u^1+2220u^3-5u^5)+(-84000u^1+2400u^3-6u^5)+sin(u)(166320u^0-18060u^2+155u^4)]\n",
      "$r=7$, $\\hat{L}_{1}(u)$\n",
      "7983360j/u^14[cos(u)(-357840u^1+10640u^3-43u^5)+(-362880u^1+11200u^3-48u^5)+sin(u)(720720u^0-80640u^2+875u^4-1u^6)]\n",
      "$r=8$, $\\hat{L}_{1}(u)$\n",
      "34594560j/u^16[cos(u)(-64532160u^1+2041200u^3-10920u^5+7u^7)+(-65197440u^1+2116800u^3-11760u^5+8u^7)+sin(u)(129729600u^0-14802480u^2+183960u^4-399u^6)]\n",
      "$r=9$, $\\hat{L}_{1}(u)$\n",
      "8302694400j/u^18[cos(u)(-274594320u^1+9064440u^3-57330u^5+73u^7)+(-276756480u^1+9313920u^3-60480u^5+80u^7)+sin(u)(551350800u^0-63783720u^2+866250u^4-2583u^6+1u^8)]\n",
      "$r=10$, $\\hat{L}_{1}(u)$\n",
      "35286451200j/u^20[cos(u)(-83545862400u^1+2845402560u^3-20124720u^5+36360u^7-9u^9)+(-84064780800u^1+2905943040u^3-20956320u^5+38880u^7-10u^9)+sin(u)(167610643200u^0-19589169600u^2+283242960u^4-1025640u^6+819u^8)]\n",
      "$r=11$, $\\hat{L}_{1}(u)$\n",
      "13408851456000j/u^22[cos(u)(-351100189440u^1+12246474240u^3-93837744u^5+210672u^7-111u^9)+(-352864512000u^1+12454041600u^3-96864768u^5+221760u^7-120u^9)+sin(u)(703964701440u^0-82923160320u^2+1256214960u^4-5189184u^6+6039u^8-1u^10)]\n"
     ]
    }
   ],
   "source": [
    "for r in range(2, 12):\n",
    "    if r%2 == 0:\n",
    "        F  = 2*r*fact(2*r-2)/(fact(r))\n",
    "    else:\n",
    "        F  = 2*r*(r-1)*fact(2*r-2)/fact(r)\n",
    "        \n",
    "    A = []\n",
    "    B = []\n",
    "    C = []\n",
    "    \n",
    "    # Write Fourier transform\n",
    "    Lhat = \"\"\n",
    "    Lhat += \"%dj/u^%d[cos(u)(\" % (F, 2*r)\n",
    "    for k in range(1, np.int(np.floor(r/2))+1):\n",
    "        if r%2 == 0:\n",
    "            A.append((2*r**2-(2*k+2)*r+1)*fact(2*r-2-2*k)/(fact(2*k-1)*fact(r-2*k))*(-1)**k)\n",
    "        else:\n",
    "            A.append((2*r**2-(2*k+2)*r+1)*fact(2*r-2-2*k)/(fact(2*k-1)*(r-1)*fact(r-2*k))*(-1)**k)\n",
    "        if k < np.int(np.floor(r/2)):\n",
    "            if k%2 == 0:\n",
    "                Lhat += \"%du^%d\" % (A[-1], 2*k-1)\n",
    "            else:\n",
    "                Lhat += \"%du^%d+\" % (A[-1], 2*k-1)\n",
    "        else:\n",
    "            Lhat += \"%du^%d)+(\" % (A[-1], 2*k-1)\n",
    "        \n",
    "    for k in range(1, np.int(np.floor(r/2))+1):\n",
    "        if r%2 == 0:\n",
    "            B.append((2*r**2-(2*k+2)*r+2*k)*fact(2*r-2-2*k)/(fact(2*k-1)*fact(r-2*k))*(-1)**k)\n",
    "        else:\n",
    "            B.append((2*r**2-(2*k+2)*r+2*k)*fact(2*r-2-2*k)/(fact(2*k-1)*(r-1)*fact(r-2*k))*(-1)**k)\n",
    "        if k < np.int(np.floor(r/2)):\n",
    "            if k%2 == 0:\n",
    "                Lhat += \"%du^%d\" % (B[-1], 2*k-1)\n",
    "            else:\n",
    "                Lhat += \"%du^%d+\" % (B[-1], 2*k-1)\n",
    "        else:\n",
    "            Lhat += \"%du^%d)+sin(u)(\" % (B[-1], 2*k-1)\n",
    "            \n",
    "    for k in range(1, np.int(np.floor((r+1)/2))+1):\n",
    "        if r%2 == 0:\n",
    "            C.append((2*r**2-(2*k+1)*r+1)*fact(2*r-1-2*k)/(fact(2*k-2)*fact(r+1-2*k))*(-1)**(k+1))\n",
    "        else:\n",
    "            C.append((2*r**2-(2*k+1)*r+1)*fact(2*r-1-2*k)/(fact(2*k-2)*(r-1)*fact(r+1-2*k))*(-1)**(k+1))\n",
    "        if k < np.int(np.floor((r+1)/2)):\n",
    "            if k%2 == 0:\n",
    "                Lhat += \"%du^%d+\" % (C[-1], 2*k-2)\n",
    "            else:\n",
    "                Lhat += \"%du^%d\" % (C[-1], 2*k-2)\n",
    "        else:\n",
    "            Lhat += \"%du^%d)]\" % (C[-1], 2*k-2)\n",
    "    print(r\"$r=%d$, $\\hat{L}_{1}(u)$\" % r)\n",
    "    print(Lhat)"
   ]
  },
  {
   "cell_type": "code",
   "execution_count": 34,
   "metadata": {},
   "outputs": [
    {
     "name": "stdout",
     "output_type": "stream",
     "text": [
      "$r=2$, $\\hat{L}_{1}(u)$\n",
      "4j/u^4[cos(u)(-1u^1)+(-2u^1)+sin(u)(3u^0)]\n",
      "$r=3$, $\\hat{L}_{1}(u)$\n",
      "24j/u^6[cos(u)(-14u^1)+(-16u^1)+sin(u)(30u^0-2u^2)]\n",
      "$r=4$, $\\hat{L}_{1}(u)$\n",
      "240j/u^8[cos(u)(-204u^1+3u^3)+(-216u^1+4u^3)+sin(u)(420u^0-39u^2)]\n",
      "$r=5$, $\\hat{L}_{1}(u)$\n",
      "3360j/u^10[cos(u)(-3720u^1+84u^3)+(-3840u^1+96u^3)+sin(u)(7560u^0-780u^2+4u^4)]\n",
      "$r=6$, $\\hat{L}_{1}(u)$\n",
      "60480j/u^12[cos(u)(-82320u^1+2220u^3-5u^5)+(-84000u^1+2400u^3-6u^5)+sin(u)(166320u^0-18060u^2+155u^4)]\n",
      "$r=7$, $\\hat{L}_{1}(u)$\n",
      "1330560j/u^14[cos(u)(-2147040u^1+63840u^3-258u^5)+(-2177280u^1+67200u^3-288u^5)+sin(u)(4324320u^0-483840u^2+5250u^4-6u^6)]\n",
      "$r=8$, $\\hat{L}_{1}(u)$\n",
      "34594560j/u^16[cos(u)(-64532160u^1+2041200u^3-10920u^5+7u^7)+(-65197440u^1+2116800u^3-11760u^5+8u^7)+sin(u)(129729600u^0-14802480u^2+183960u^4-399u^6)]\n",
      "$r=9$, $\\hat{L}_{1}(u)$\n",
      "1037836800j/u^18[cos(u)(-2196754560u^1+72515520u^3-458640u^5+584u^7)+(-2214051840u^1+74511360u^3-483840u^5+640u^7)+sin(u)(4410806400u^0-510269760u^2+6930000u^4-20664u^6+8u^8)]\n",
      "$r=10$, $\\hat{L}_{1}(u)$\n",
      "35286451200j/u^20[cos(u)(-83545862400u^1+2845402560u^3-20124720u^5+36360u^7-9u^9)+(-84064780800u^1+2905943040u^3-20956320u^5+38880u^7-10u^9)+sin(u)(167610643200u^0-19589169600u^2+283242960u^4-1025640u^6+819u^8)]\n",
      "$r=11$, $\\hat{L}_{1}(u)$\n",
      "1340885145600j/u^22[cos(u)(-3511001894400u^1+122464742400u^3-938377440u^5+2106720u^7-1110u^9)+(-3528645120000u^1+124540416000u^3-968647680u^5+2217600u^7-1200u^9)+sin(u)(7039647014400u^0-829231603200u^2+12562149600u^4-51891840u^6+60390u^8-10u^10)]\n"
     ]
    }
   ],
   "source": [
    "for r in range(2, 12):\n",
    "    F  = 2*r*fact(2*r-2)/(fact(r))\n",
    "        \n",
    "    A = []\n",
    "    B = []\n",
    "    C = []\n",
    "    \n",
    "    # Write Fourier transform\n",
    "    Lhat = \"\"\n",
    "    Lhat += \"%dj/u^%d[cos(u)(\" % (F, 2*r)\n",
    "    for k in range(1, np.int(np.floor(r/2))+1):\n",
    "        A.append((2*r**2-(2*k+2)*r+1)*fact(2*r-2-2*k)/(fact(2*k-1)*fact(r-2*k))*(-1)**k)\n",
    "        if k < np.int(np.floor(r/2)):\n",
    "            if k%2 == 0:\n",
    "                Lhat += \"%du^%d\" % (A[-1], 2*k-1)\n",
    "            else:\n",
    "                Lhat += \"%du^%d+\" % (A[-1], 2*k-1)\n",
    "        else:\n",
    "            Lhat += \"%du^%d)+(\" % (A[-1], 2*k-1)\n",
    "        \n",
    "    for k in range(1, np.int(np.floor(r/2))+1):\n",
    "        B.append((2*r**2-(2*k+2)*r+2*k)*fact(2*r-2-2*k)/(fact(2*k-1)*fact(r-2*k))*(-1)**k)\n",
    "        if k < np.int(np.floor(r/2)):\n",
    "            if k%2 == 0:\n",
    "                Lhat += \"%du^%d\" % (B[-1], 2*k-1)\n",
    "            else:\n",
    "                Lhat += \"%du^%d+\" % (B[-1], 2*k-1)\n",
    "        else:\n",
    "            Lhat += \"%du^%d)+sin(u)(\" % (B[-1], 2*k-1)\n",
    "            \n",
    "    for k in range(1, np.int(np.floor((r+1)/2))+1):\n",
    "        C.append((2*r**2-(2*k+1)*r+1)*fact(2*r-1-2*k)/(fact(2*k-2)*fact(r+1-2*k))*(-1)**(k+1))\n",
    "        if k < np.int(np.floor((r+1)/2)):\n",
    "            if k%2 == 0:\n",
    "                Lhat += \"%du^%d+\" % (C[-1], 2*k-2)\n",
    "            else:\n",
    "                Lhat += \"%du^%d\" % (C[-1], 2*k-2)\n",
    "        else:\n",
    "            Lhat += \"%du^%d)]\" % (C[-1], 2*k-2)\n",
    "    print(r\"$r=%d$, $\\hat{L}_{1}(u)$\" % r)\n",
    "    print(Lhat)"
   ]
  },
  {
   "cell_type": "markdown",
   "metadata": {},
   "source": [
    "### $\\hat{\\phi}_3(w)$"
   ]
  },
  {
   "cell_type": "code",
   "execution_count": 60,
   "metadata": {},
   "outputs": [
    {
     "name": "stdout",
     "output_type": "stream",
     "text": [
      "r=3, 6.000\n",
      "r=4, 120.000\n",
      "r=5, 840.000\n",
      "r=6, 60480.000\n",
      "r=7, 332640.000\n",
      "r=8, 51891840.000\n",
      "r=9, 259459200.000\n",
      "r=10, 70572902400.000\n",
      "r=11, 335221286400.000\n",
      "r=12, 140792940288000.000\n"
     ]
    }
   ],
   "source": [
    "f1 = lambda r: fact(2*r-3)/(fact(r-3))\n",
    "f2 = lambda r: fact(2*r-3)/(fact(r-3)*(r-2))\n",
    "for r in range(3, 13):\n",
    "    if r%2 == 0:\n",
    "        print('r=%d, %.3f' % (r, f1(r)))\n",
    "    else:\n",
    "        print('r=%d, %.3f' % (r, f2(r)))"
   ]
  },
  {
   "cell_type": "code",
   "execution_count": 42,
   "metadata": {},
   "outputs": [
    {
     "name": "stdout",
     "output_type": "stream",
     "text": [
      "20.0\n",
      "7.0\n",
      "72.0\n",
      "5.5\n",
      "156.0\n",
      "5.0\n",
      "272.0\n",
      "4.75\n"
     ]
    }
   ],
   "source": [
    "seq = [6, 120, 840, 60480, 332640, 51891840, 259459200, 70572902400, 335221286400]\n",
    "\n",
    "for a, b in zip(seq[:-1], seq[1:]):\n",
    "    print(b/a)"
   ]
  },
  {
   "cell_type": "code",
   "execution_count": 55,
   "metadata": {},
   "outputs": [
    {
     "name": "stderr",
     "output_type": "stream",
     "text": [
      "  0%|          | 0/12960 [00:00<?, ?it/s]/anaconda3/lib/python3.7/site-packages/ipykernel_launcher.py:11: RuntimeWarning: invalid value encountered in long_scalars\n",
      "  # This is added back by InteractiveShellApp.init_path()\n",
      "/anaconda3/lib/python3.7/site-packages/ipykernel_launcher.py:11: RuntimeWarning: divide by zero encountered in long_scalars\n",
      "  # This is added back by InteractiveShellApp.init_path()\n",
      "/anaconda3/lib/python3.7/site-packages/ipykernel_launcher.py:11: RuntimeWarning: overflow encountered in long_scalars\n",
      "  # This is added back by InteractiveShellApp.init_path()\n",
      " 15%|█▍        | 1910/12960 [00:00<00:01, 9377.32it/s]"
     ]
    },
    {
     "name": "stdout",
     "output_type": "stream",
     "text": [
      "(0, 0, 1, 3, 3)\n",
      "[inf, 6.0, 120.0, 2520.0, 60480.0, 1663200.0, 51891840.0, 1816214400.0, 70572902400.0, 3016991577600.0]\n",
      "(0, 0, 1, 5, 4)\n",
      "[nan, inf, 6.0, 120.0, 2520.0, 60480.0, 1663200.0, 51891840.0, 1816214400.0, 70572902400.0]\n",
      "(0, 0, 1, 7, 5)\n",
      "[nan, nan, inf, 6.0, 120.0, 2520.0, 60480.0, 1663200.0, 51891840.0, 1816214400.0]\n"
     ]
    },
    {
     "name": "stderr",
     "output_type": "stream",
     "text": [
      " 38%|███▊      | 4878/12960 [00:00<00:00, 9708.50it/s]"
     ]
    },
    {
     "name": "stdout",
     "output_type": "stream",
     "text": [
      "(1, 3, 2, 3, 1)\n",
      "[0.0, 6.0, 120.0, 2520.0, 60480.0, 1663200.0, 51891840.0, 1816214400.0, 70572902400.0, -2066436573223.8403]\n"
     ]
    },
    {
     "name": "stderr",
     "output_type": "stream",
     "text": [
      " 51%|█████▏    | 6652/12960 [00:00<00:00, 9218.71it/s]"
     ]
    },
    {
     "name": "stdout",
     "output_type": "stream",
     "text": [
      "(2, 3, 1, 2, 1)\n",
      "[6.0, 120.0, 2520.0, 60480.0, 1663200.0, 51891840.0, 1816214400.0, 70572902400.0, 3016991577600.0, -1543047935067.5278]\n"
     ]
    },
    {
     "name": "stderr",
     "output_type": "stream",
     "text": [
      " 88%|████████▊ | 11341/12960 [00:01<00:00, 9514.24it/s]"
     ]
    },
    {
     "name": "stdout",
     "output_type": "stream",
     "text": [
      "(4, 6, 2, 3, 2)\n",
      "[6.0, 120.0, 2520.0, 60480.0, 1663200.0, 51891840.0, 1816214400.0, 70572902400.0, 3016991577600.0, -11709904236715.209]\n"
     ]
    },
    {
     "name": "stderr",
     "output_type": "stream",
     "text": [
      "100%|██████████| 12960/12960 [00:01<00:00, 9429.90it/s]\n"
     ]
    }
   ],
   "source": [
    "all_list = []\n",
    "all_list.append(np.arange(6)) # Coefficient r**2\n",
    "all_list.append(np.arange(10))\n",
    "all_list.append(np.arange(6))\n",
    "all_list.append(np.arange(2, 8))\n",
    "all_list.append(np.arange(6))\n",
    "\n",
    "all_p = list(itertools.product(*all_list))\n",
    "             \n",
    "for p in tqdm(all_p):\n",
    "    seq = [(p[0]*r**2 - p[1]*r + p[2])*fact(2*r-p[3])/(fact(r-p[4])) for r in range(2, 12, 1)]\n",
    "    if all([n in seq for n in [120, 60480, 51891840]]):\n",
    "        print(p)\n",
    "        print(seq)"
   ]
  },
  {
   "cell_type": "markdown",
   "metadata": {},
   "source": [
    "### $\\hat{\\phi}_4(w)$"
   ]
  },
  {
   "cell_type": "code",
   "execution_count": 115,
   "metadata": {},
   "outputs": [
    {
     "name": "stdout",
     "output_type": "stream",
     "text": [
      "30.0\n",
      "28.0\n",
      "6.0\n",
      "33.0\n",
      "26.0\n",
      "40.0\n",
      "102.0\n",
      "47.5\n"
     ]
    }
   ],
   "source": [
    "seq = [8, 240, 6720, 40320, 1330560, 34594560, 1383782400, 141145804800, 6704425728000]\n",
    "\n",
    "for a, b in zip(seq[:-1], seq[1:]):\n",
    "    print(b/a)"
   ]
  },
  {
   "cell_type": "code",
   "execution_count": 116,
   "metadata": {},
   "outputs": [
    {
     "name": "stdout",
     "output_type": "stream",
     "text": [
      "r=4, 8.000, ratio 1\n",
      "r=5, 80.000, ratio 0.33\n",
      "r=6, 6720.000, ratio 1\n",
      "r=7, 40320.000, ratio 1\n",
      "r=8, 6652800.000, ratio 5\n",
      "r=9, 34594560.000, ratio 1\n",
      "r=10, 9686476800.000, ratio 7\n",
      "r=11, 47048601600.000, ratio 0.33\n",
      "r=12, 20113277184000.000, ratio 3\n"
     ]
    }
   ],
   "source": [
    "f1 = lambda r: fact(2*r-4)/(3*fact(r-4))\n",
    "f2 = lambda r: fact(2*r-4)/(3*(r-2)*fact(r-4))\n",
    "for r in range(4, 13):\n",
    "    if r%2 == 0:\n",
    "        print('r=%d, %.3f, ratio %.2g' % (r, f1(r), f1(r)/seq[r-4]))\n",
    "    else:\n",
    "        print('r=%d, %.3f, ratio %.2g' % (r, f2(r), f2(r)/seq[r-4]))"
   ]
  },
  {
   "cell_type": "code",
   "execution_count": 118,
   "metadata": {},
   "outputs": [
    {
     "name": "stderr",
     "output_type": "stream",
     "text": [
      "  0%|          | 0/311040 [00:00<?, ?it/s]/anaconda3/lib/python3.7/site-packages/ipykernel_launcher.py:12: RuntimeWarning: invalid value encountered in long_scalars\n",
      "  if sys.path[0] == '':\n",
      "/anaconda3/lib/python3.7/site-packages/ipykernel_launcher.py:12: RuntimeWarning: divide by zero encountered in long_scalars\n",
      "  if sys.path[0] == '':\n",
      "  1%|          | 3056/311040 [00:00<00:30, 9993.28it/s]"
     ]
    },
    {
     "name": "stdout",
     "output_type": "stream",
     "text": [
      "(0, 0, 1, 4, 4, 3)\n",
      "[8.0, 240.0, 6720.0, 201600.0, 6652800.0, 242161920.0, 9686476800.0, 423437414400.0]\n",
      "(0, 0, 1, 6, 5, 3)\n",
      "[inf, 8.0, 240.0, 6720.0, 201600.0, 6652800.0, 242161920.0, 9686476800.0]\n",
      "(0, 0, 2, 4, 4, 6)\n",
      "[8.0, 240.0, 6720.0, 201600.0, 6652800.0, 242161920.0, 9686476800.0, 423437414400.0]\n",
      "(0, 0, 2, 6, 5, 6)\n",
      "[inf, 8.0, 240.0, 6720.0, 201600.0, 6652800.0, 242161920.0, 9686476800.0]\n",
      "(0, 0, 3, 4, 4, 9)\n",
      "[8.0, 240.0, 6720.0, 201600.0, 6652800.0, 242161920.0, 9686476800.0, 423437414400.0]\n",
      "(0, 0, 3, 6, 5, 9)\n",
      "[inf, 8.0, 240.0, 6720.0, 201600.0, 6652800.0, 242161920.0, 9686476800.0]\n"
     ]
    },
    {
     "name": "stderr",
     "output_type": "stream",
     "text": [
      "/anaconda3/lib/python3.7/site-packages/ipykernel_launcher.py:12: RuntimeWarning: overflow encountered in long_scalars\n",
      "  if sys.path[0] == '':\n",
      "  2%|▏         | 5143/311040 [00:00<00:29, 10222.09it/s]"
     ]
    },
    {
     "name": "stdout",
     "output_type": "stream",
     "text": [
      "(0, 0, 4, 4, 4, 12)\n",
      "[8.0, 240.0, 6720.0, 201600.0, 6652800.0, 242161920.0, 9686476800.0, 423437414400.0]\n",
      "(0, 0, 4, 6, 5, 12)\n",
      "[inf, 8.0, 240.0, 6720.0, 201600.0, 6652800.0, 242161920.0, 9686476800.0]\n",
      "(0, 0, 5, 4, 4, 15)\n",
      "[8.0, 240.0, 6720.0, 201600.0, 6652800.0, 242161920.0, 9686476800.0, 423437414400.0]\n",
      "(0, 0, 5, 6, 5, 15)\n",
      "[inf, 8.0, 240.0, 6720.0, 201600.0, 6652800.0, 242161920.0, 9686476800.0]\n"
     ]
    },
    {
     "name": "stderr",
     "output_type": "stream",
     "text": [
      "100%|██████████| 311040/311040 [00:29<00:00, 10631.73it/s]\n"
     ]
    }
   ],
   "source": [
    "all_list = []\n",
    "all_list.append(np.arange(6)) # Coefficient r**2\n",
    "all_list.append(np.arange(10))\n",
    "all_list.append(np.arange(6))\n",
    "all_list.append(np.arange(2, 8))\n",
    "all_list.append(np.arange(6))\n",
    "all_list.append(np.arange(24))\n",
    "\n",
    "all_p = list(itertools.product(*all_list))\n",
    "             \n",
    "for p in tqdm(all_p):\n",
    "    seq = [(p[0]*r**2 - p[1]*r + p[2])*fact(2*r-p[3])/(fact(r-p[4])*p[5]) for r in range(4, 12, 1)]\n",
    "    if all([n in seq for n in [8, 6720, 6652800]]):\n",
    "        print(p)\n",
    "        print(seq)"
   ]
  },
  {
   "cell_type": "code",
   "execution_count": null,
   "metadata": {},
   "outputs": [],
   "source": []
  },
  {
   "cell_type": "markdown",
   "metadata": {},
   "source": [
    "### $\\hat{\\phi}_5(w)$"
   ]
  },
  {
   "cell_type": "code",
   "execution_count": 167,
   "metadata": {},
   "outputs": [
    {
     "name": "stdout",
     "output_type": "stream",
     "text": [
      "14.0\n",
      "36.0\n",
      "22.0\n",
      "39.0\n",
      "30.0\n",
      "45.333333333333336\n",
      "38.0\n"
     ]
    }
   ],
   "source": [
    "seq = [10, 420/3, 5040, 110880, 4324320, 129729600, 5881075200, 670442572800/3]\n",
    "\n",
    "for a, b in zip(seq[:-1], seq[1:]):\n",
    "    print(b/a)"
   ]
  },
  {
   "cell_type": "code",
   "execution_count": 168,
   "metadata": {},
   "outputs": [
    {
     "name": "stdout",
     "output_type": "stream",
     "text": [
      "r=5, 10.000 vs 10\n",
      "r=6, 140.000 vs 140\n",
      "r=7, 5040.000 vs 5040\n",
      "r=8, 110880.000 vs 110880\n",
      "r=9, 4324320.000 vs 4324320\n",
      "r=10, 129729600.000 vs 129729600\n",
      "r=11, 5881075200.000 vs 5881075200\n",
      "r=12, 223480857600.000 vs 223480857600\n"
     ]
    }
   ],
   "source": [
    "f1 = lambda r: fact(2*r-5)*(r-4)/(12*fact(r-3))\n",
    "f2 = lambda r: fact(2*r-5)/(12*fact(r-5)*(r-4))\n",
    "for r in range(5, 13):\n",
    "    if r%2 == 0:\n",
    "        print('r=%d, %.3f vs %d' % (r, f1(r), seq[r-5]))\n",
    "    else:\n",
    "        print('r=%d, %.3f vs %d' % (r, f2(r), seq[r-5]))"
   ]
  },
  {
   "cell_type": "code",
   "execution_count": 141,
   "metadata": {},
   "outputs": [
    {
     "data": {
      "text/plain": [
       "5.0"
      ]
     },
     "execution_count": 141,
     "metadata": {},
     "output_type": "execute_result"
    }
   ],
   "source": [
    "554400/110880"
   ]
  },
  {
   "cell_type": "code",
   "execution_count": 145,
   "metadata": {},
   "outputs": [
    {
     "data": {
      "text/plain": [
       "7.0"
      ]
     },
     "execution_count": 145,
     "metadata": {},
     "output_type": "execute_result"
    }
   ],
   "source": [
    "908107200/129729600"
   ]
  },
  {
   "cell_type": "code",
   "execution_count": 165,
   "metadata": {},
   "outputs": [
    {
     "data": {
      "text/plain": [
       "9.0"
      ]
     },
     "execution_count": 165,
     "metadata": {},
     "output_type": "execute_result"
    }
   ],
   "source": [
    "2011327718400/223480857600"
   ]
  },
  {
   "cell_type": "code",
   "execution_count": 159,
   "metadata": {},
   "outputs": [
    {
     "name": "stderr",
     "output_type": "stream",
     "text": [
      "  0%|          | 0/864000 [00:00<?, ?it/s]/anaconda3/lib/python3.7/site-packages/ipykernel_launcher.py:12: RuntimeWarning: invalid value encountered in long_scalars\n",
      "  if sys.path[0] == '':\n",
      "/anaconda3/lib/python3.7/site-packages/ipykernel_launcher.py:7: RuntimeWarning: overflow encountered in long_scalars\n",
      "  import sys\n",
      "  0%|          | 1032/864000 [00:00<01:23, 10318.14it/s]/anaconda3/lib/python3.7/site-packages/ipykernel_launcher.py:12: RuntimeWarning: divide by zero encountered in long_scalars\n",
      "  if sys.path[0] == '':\n",
      "  1%|          | 6033/864000 [00:00<01:13, 11677.92it/s]"
     ]
    },
    {
     "name": "stdout",
     "output_type": "stream",
     "text": [
      "(0, 0, 1, 5, 4, 12)\n",
      "[10.0, 210.0, 5040.0, 138600.0, 4324320.0, 151351200.0, 5881075200.0]\n",
      "(0, 0, 1, 7, 5, 12)\n",
      "[0.5, 10.0, 210.0, 5040.0, 138600.0, 4324320.0, 151351200.0]\n",
      "(0, 0, 1, 9, 6, 12)\n",
      "[inf, 0.5, 10.0, 210.0, 5040.0, 138600.0, 4324320.0]\n"
     ]
    },
    {
     "name": "stderr",
     "output_type": "stream",
     "text": [
      "  1%|          | 7367/864000 [00:00<01:10, 12129.19it/s]/anaconda3/lib/python3.7/site-packages/ipykernel_launcher.py:12: RuntimeWarning: overflow encountered in long_scalars\n",
      "  if sys.path[0] == '':\n",
      " 22%|██▏       | 190904/864000 [00:15<00:54, 12250.51it/s]"
     ]
    },
    {
     "name": "stdout",
     "output_type": "stream",
     "text": [
      "(1, 3, 0, 8, 5, 2)\n",
      "[10.0, 216.0, 5040.0, 134400.0, 4082400.0, 139708800.0, 5327562240.0]\n"
     ]
    },
    {
     "name": "stderr",
     "output_type": "stream",
     "text": [
      " 24%|██▎       | 204608/864000 [00:16<00:54, 12055.13it/s]"
     ]
    },
    {
     "name": "stdout",
     "output_type": "stream",
     "text": [
      "(1, 4, 0, 4, 0, 3)\n",
      "[10.0, 224.0, 5040.0, 126720.0, 3603600.0, 115315200.0, 4116752640.0]\n"
     ]
    },
    {
     "name": "stderr",
     "output_type": "stream",
     "text": [
      " 28%|██▊       | 243410/864000 [00:20<00:49, 12475.08it/s]"
     ]
    },
    {
     "name": "stdout",
     "output_type": "stream",
     "text": [
      "(1, 6, 4, 7, 2, 2)\n",
      "[-0.5, 10.0, 231.0, 5040.0, 122760.0, 3397680.0, 106306200.0]\n",
      "(1, 6, 5, 6, 1, 3)\n",
      "[0.0, 10.0, 224.0, 5040.0, 126720.0, 3603600.0, 115315200.0]\n"
     ]
    },
    {
     "name": "stderr",
     "output_type": "stream",
     "text": [
      " 44%|████▍     | 378345/864000 [00:30<00:39, 12334.73it/s]"
     ]
    },
    {
     "name": "stdout",
     "output_type": "stream",
     "text": [
      "(2, 6, 0, 8, 5, 4)\n",
      "[10.0, 216.0, 5040.0, 134400.0, 4082400.0, 139708800.0, 5327562240.0]\n"
     ]
    },
    {
     "name": "stderr",
     "output_type": "stream",
     "text": [
      " 47%|████▋     | 406660/864000 [00:33<00:36, 12405.45it/s]"
     ]
    },
    {
     "name": "stdout",
     "output_type": "stream",
     "text": [
      "(2, 8, 0, 4, 0, 6)\n",
      "[10.0, 224.0, 5040.0, 126720.0, 3603600.0, 115315200.0, 4116752640.0]\n"
     ]
    },
    {
     "name": "stderr",
     "output_type": "stream",
     "text": [
      " 66%|██████▌   | 565925/864000 [00:45<00:23, 12683.40it/s]"
     ]
    },
    {
     "name": "stdout",
     "output_type": "stream",
     "text": [
      "(3, 9, 0, 8, 5, 6)\n",
      "[10.0, 216.0, 5040.0, 134400.0, 4082400.0, 139708800.0, 5327562240.0]\n"
     ]
    },
    {
     "name": "stderr",
     "output_type": "stream",
     "text": [
      "100%|██████████| 864000/864000 [01:09<00:00, 12435.46it/s]\n"
     ]
    }
   ],
   "source": [
    "all_list = []\n",
    "all_list.append(np.arange(6)) # Coefficient r**2\n",
    "all_list.append(np.arange(10))\n",
    "all_list.append(np.arange(6))\n",
    "all_list.append(np.arange(10))\n",
    "all_list.append(np.arange(10))\n",
    "all_list.append(np.arange(24))\n",
    "\n",
    "all_p = list(itertools.product(*all_list))\n",
    "             \n",
    "for p in tqdm(all_p):\n",
    "    seq = [(p[0]*r**2 - p[1]*r + p[2])*fact(2*r-p[3])/(fact(r-p[4])*p[5]) for r in range(5, 12, 1)]\n",
    "    if all([n in seq for n in [10, 5040]]):\n",
    "        print(p)\n",
    "        print(seq)"
   ]
  },
  {
   "cell_type": "code",
   "execution_count": null,
   "metadata": {},
   "outputs": [],
   "source": []
  },
  {
   "cell_type": "markdown",
   "metadata": {},
   "source": [
    "### $\\hat{\\phi}_3(w), -\\cos(w)$"
   ]
  },
  {
   "cell_type": "code",
   "execution_count": 64,
   "metadata": {},
   "outputs": [
    {
     "name": "stdout",
     "output_type": "stream",
     "text": [
      "8.4\n",
      "38.57142857142857\n",
      "5.703703703703703\n",
      "106.36363636363636\n"
     ]
    }
   ],
   "source": [
    "seq = [20, 168, 6480, 36960, 3931200]\n",
    "\n",
    "for a, b in zip(seq[:-1], seq[1:]):\n",
    "    print(b/a)"
   ]
  },
  {
   "cell_type": "code",
   "execution_count": 67,
   "metadata": {},
   "outputs": [
    {
     "name": "stdout",
     "output_type": "stream",
     "text": [
      "r=3, 2\n",
      "r=4, 24\n",
      "r=5, 120\n",
      "r=6, 6720\n",
      "r=7, 30240\n",
      "r=8, 3991680\n",
      "r=9, 17297280\n",
      "r=10, 4151347200\n",
      "r=11, 17643225600\n",
      "r=12, 6704425728000\n"
     ]
    }
   ],
   "source": [
    "f1 = lambda r: fact(2*r-4)/(fact(r-3))\n",
    "f2 = lambda r: fact(2*r-4)/(fact(r-3)*(r-2))\n",
    "for r in range(3, 13):\n",
    "    if r%2 == 0:\n",
    "        print('r=%d, %d' % (r, f1(r)))\n",
    "    else:\n",
    "        print('r=%d, %d' % (r, f2(r)))"
   ]
  },
  {
   "cell_type": "code",
   "execution_count": null,
   "metadata": {},
   "outputs": [],
   "source": []
  }
 ],
 "metadata": {
  "kernelspec": {
   "display_name": "Python 3",
   "language": "python",
   "name": "python3"
  },
  "language_info": {
   "codemirror_mode": {
    "name": "ipython",
    "version": 3
   },
   "file_extension": ".py",
   "mimetype": "text/x-python",
   "name": "python",
   "nbconvert_exporter": "python",
   "pygments_lexer": "ipython3",
   "version": "3.7.1"
  }
 },
 "nbformat": 4,
 "nbformat_minor": 2
}
